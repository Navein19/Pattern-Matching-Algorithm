{
  "nbformat": 4,
  "nbformat_minor": 0,
  "metadata": {
    "kernelspec": {
      "name": "python3",
      "display_name": "Python 3"
    },
    "language_info": {
      "codemirror_mode": {
        "name": "ipython",
        "version": 3
      },
      "file_extension": ".py",
      "mimetype": "text/x-python",
      "name": "python",
      "nbconvert_exporter": "python",
      "pygments_lexer": "ipython3",
      "version": "3.7.3"
    },
    "colab": {
      "name": "Sequence_Matching.ipynb",
      "version": "0.3.2",
      "provenance": []
    },
    "accelerator": "GPU"
  },
  "cells": [
    {
      "cell_type": "code",
      "metadata": {
        "id": "aYry3OMt1u6a",
        "colab_type": "code",
        "colab": {}
      },
      "source": [
        "import tensorflow as tf"
      ],
      "execution_count": 0,
      "outputs": []
    },
    {
      "cell_type": "code",
      "metadata": {
        "id": "9KuUdS4m1u6e",
        "colab_type": "code",
        "colab": {}
      },
      "source": [
        "from tensorflow.examples.tutorials.mnist import input_data"
      ],
      "execution_count": 0,
      "outputs": []
    },
    {
      "cell_type": "code",
      "metadata": {
        "id": "ypsm0jUB1u6i",
        "colab_type": "code",
        "outputId": "ff8bd999-5caf-491b-9796-35a26e708d8b",
        "colab": {
          "base_uri": "https://localhost:8080/",
          "height": 87
        }
      },
      "source": [
        "mnist = input_data.read_data_sets(\".\",one_hot=True)"
      ],
      "execution_count": 39,
      "outputs": [
        {
          "output_type": "stream",
          "text": [
            "Extracting ./train-images-idx3-ubyte.gz\n",
            "Extracting ./train-labels-idx1-ubyte.gz\n",
            "Extracting ./t10k-images-idx3-ubyte.gz\n",
            "Extracting ./t10k-labels-idx1-ubyte.gz\n"
          ],
          "name": "stdout"
        }
      ]
    },
    {
      "cell_type": "code",
      "metadata": {
        "id": "recZPMt71u6p",
        "colab_type": "code",
        "colab": {}
      },
      "source": [
        "#HELPER\n",
        "#init weights\n"
      ],
      "execution_count": 0,
      "outputs": []
    },
    {
      "cell_type": "code",
      "metadata": {
        "id": "-kZFnf3f1u6s",
        "colab_type": "code",
        "colab": {}
      },
      "source": [
        "def init_weights(shape):\n",
        "    init_random_dist=tf.truncated_normal(shape,stddev=0.1)\n",
        "    return tf.Variable(init_random_dist)"
      ],
      "execution_count": 0,
      "outputs": []
    },
    {
      "cell_type": "code",
      "metadata": {
        "id": "WHzQ4D4V1u6w",
        "colab_type": "code",
        "colab": {}
      },
      "source": [
        "#init bias\n",
        "\n",
        "def init_bias(shape):\n",
        "    init_bias_vals=tf.constant(0.1,shape=shape)\n",
        "    return tf.Variable(init_bias_vals)"
      ],
      "execution_count": 0,
      "outputs": []
    },
    {
      "cell_type": "code",
      "metadata": {
        "id": "giPkKTF11u6z",
        "colab_type": "code",
        "colab": {}
      },
      "source": [
        "#conv2d\n",
        "def conv2d(x,W):\n",
        "    #x->input tensor [batch,ht,width,no.ofchannels]\n",
        "    #W-> [filter ht,filter widht,no.ofchannel_in,k_out]\n",
        "    \n",
        "    return tf.nn.conv2d(x,W,strides=[1,1,1,1],padding='SAME')"
      ],
      "execution_count": 0,
      "outputs": []
    },
    {
      "cell_type": "code",
      "metadata": {
        "id": "n8TXPxi11u64",
        "colab_type": "code",
        "colab": {}
      },
      "source": [
        "#maxpooling\n",
        "\n",
        "def max_pool_2by2(x):\n",
        "    return tf.nn.max_pool(x,ksize=[1,2,2,1],strides=[1,2,2,1],padding='SAME')\n",
        "\n"
      ],
      "execution_count": 0,
      "outputs": []
    },
    {
      "cell_type": "code",
      "metadata": {
        "id": "3K4UyJur1u67",
        "colab_type": "code",
        "colab": {}
      },
      "source": [
        "#convolutional layer\n",
        "def conv_layer(input_x,shape):\n",
        "    W=init_weights(shape)\n",
        "    b=init_bias([shape[3]])\n",
        "    return tf.nn.relu(conv2d(input_x,W)+b)"
      ],
      "execution_count": 0,
      "outputs": []
    },
    {
      "cell_type": "code",
      "metadata": {
        "id": "a8cJFh2I1u6-",
        "colab_type": "code",
        "colab": {}
      },
      "source": [
        "#fully connected\n",
        "def norm_full_layer(input_layer,size):\n",
        "    input_size=int(input_layer.get_shape()[1])\n",
        "    W=init_weights([input_size,size])\n",
        "    b=init_bias([size])\n",
        "    return tf.matmul(input_layer,W)+b"
      ],
      "execution_count": 0,
      "outputs": []
    },
    {
      "cell_type": "code",
      "metadata": {
        "id": "7dn9Mw9X1u7E",
        "colab_type": "code",
        "colab": {}
      },
      "source": [
        "#placeholder\n",
        "x=tf.placeholder(tf.float32,shape=[None,784])"
      ],
      "execution_count": 0,
      "outputs": []
    },
    {
      "cell_type": "code",
      "metadata": {
        "id": "XisTpeBa1u7K",
        "colab_type": "code",
        "colab": {}
      },
      "source": [
        "y_true=tf.placeholder(tf.float32,shape=[None,10])\n"
      ],
      "execution_count": 0,
      "outputs": []
    },
    {
      "cell_type": "code",
      "metadata": {
        "id": "CGLmSVKe1u7M",
        "colab_type": "code",
        "colab": {}
      },
      "source": [
        "#LAYERS\n",
        "#to reshape to 28*28\n",
        "x_image=tf.reshape(x,[-1,28,28,1])"
      ],
      "execution_count": 0,
      "outputs": []
    },
    {
      "cell_type": "code",
      "metadata": {
        "id": "EPzRD_ws1u7O",
        "colab_type": "code",
        "colab": {}
      },
      "source": [
        "convo_1=conv_layer(x_image,shape=[5,5,1,32])\n",
        "convo_1_pooling=max_pool_2by2(convo_1)"
      ],
      "execution_count": 0,
      "outputs": []
    },
    {
      "cell_type": "code",
      "metadata": {
        "id": "pCLvSTnW1u7Q",
        "colab_type": "code",
        "colab": {}
      },
      "source": [
        "convo_2=conv_layer(convo_1_pooling,shape=[5,5,32,64])\n",
        "convo_2_pooling=max_pool_2by2(convo_2)"
      ],
      "execution_count": 0,
      "outputs": []
    },
    {
      "cell_type": "code",
      "metadata": {
        "id": "0fO2XPN01u7S",
        "colab_type": "code",
        "colab": {}
      },
      "source": [
        "convo_2_flat=tf.reshape(convo_2_pooling,[-1,7*7*64])\n",
        "#1024n no of neurons\n",
        "full_layer_one=tf.nn.relu(norm_full_layer(convo_2_flat,1024))\n"
      ],
      "execution_count": 0,
      "outputs": []
    },
    {
      "cell_type": "code",
      "metadata": {
        "id": "Tvq5lXm71u7U",
        "colab_type": "code",
        "colab": {}
      },
      "source": [
        "#droput\n",
        "hold_prob=tf.placeholder(tf.float32)\n",
        "full_one_dropout=tf.nn.dropout(full_layer_one,keep_prob=hold_prob)"
      ],
      "execution_count": 0,
      "outputs": []
    },
    {
      "cell_type": "code",
      "metadata": {
        "id": "62rIyND81u7W",
        "colab_type": "code",
        "colab": {}
      },
      "source": [
        "y_pred=norm_full_layer(full_one_dropout,10)\n",
        "#10 labels"
      ],
      "execution_count": 0,
      "outputs": []
    },
    {
      "cell_type": "code",
      "metadata": {
        "id": "-VNSFoTG1u7Y",
        "colab_type": "code",
        "colab": {}
      },
      "source": [
        "#creating a loss function \n",
        "cross_entropy=tf.reduce_mean(tf.nn.softmax_cross_entropy_with_logits(labels=y_true,logits=y_pred))"
      ],
      "execution_count": 0,
      "outputs": []
    },
    {
      "cell_type": "code",
      "metadata": {
        "id": "7hTTR7sC1u7a",
        "colab_type": "code",
        "colab": {}
      },
      "source": [
        "#optimizer\n",
        "optimizer = tf.train.AdamOptimizer(learning_rate=0.001)\n",
        "train = optimizer.minimize(cross_entropy)"
      ],
      "execution_count": 0,
      "outputs": []
    },
    {
      "cell_type": "code",
      "metadata": {
        "id": "5kvJN7YG2h14",
        "colab_type": "code",
        "colab": {}
      },
      "source": [
        "init=tf.global_variables_initializer()\n"
      ],
      "execution_count": 0,
      "outputs": []
    },
    {
      "cell_type": "code",
      "metadata": {
        "id": "e3MrWx8xKxHy",
        "colab_type": "code",
        "colab": {}
      },
      "source": [
        "import cv2 \n",
        "import numpy as np\n",
        "import matplotlib.pyplot as plt\n",
        "get_ipython().run_line_magic('matplotlib', 'inline')"
      ],
      "execution_count": 0,
      "outputs": []
    },
    {
      "cell_type": "code",
      "metadata": {
        "id": "aHu3tLLLKyXX",
        "colab_type": "code",
        "colab": {}
      },
      "source": [
        "frame=cv2.imread(\"3.jpg\")\n",
        "frame=cv2.cvtColor(frame,cv2.COLOR_BGR2GRAY)\n",
        "#plt.imshow(frame)"
      ],
      "execution_count": 0,
      "outputs": []
    },
    {
      "cell_type": "code",
      "metadata": {
        "id": "wq5G4228Le1z",
        "colab_type": "code",
        "colab": {
          "resources": {
            "http://localhost:8080/nbextensions/google.colab/files.js": {
              "data": "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",
              "ok": true,
              "headers": [
                [
                  "content-type",
                  "application/javascript"
                ]
              ],
              "status": 200,
              "status_text": ""
            }
          },
          "base_uri": "https://localhost:8080/",
          "height": 96
        },
        "outputId": "bc1bca4e-e48b-46b2-eb16-f119335b6b55"
      },
      "source": [
        ""
      ],
      "execution_count": 160,
      "outputs": [
        {
          "output_type": "display_data",
          "data": {
            "text/html": [
              "\n",
              "     <input type=\"file\" id=\"files-38617ad3-8dde-4c80-942d-d6fa77ba4d42\" name=\"files[]\" multiple disabled />\n",
              "     <output id=\"result-38617ad3-8dde-4c80-942d-d6fa77ba4d42\">\n",
              "      Upload widget is only available when the cell has been executed in the\n",
              "      current browser session. Please rerun this cell to enable.\n",
              "      </output>\n",
              "      <script src=\"/nbextensions/google.colab/files.js\"></script> "
            ],
            "text/plain": [
              "<IPython.core.display.HTML object>"
            ]
          },
          "metadata": {
            "tags": []
          }
        },
        {
          "output_type": "stream",
          "text": [
            "Saving 25.jpg to 25.jpg\n"
          ],
          "name": "stdout"
        },
        {
          "output_type": "execute_result",
          "data": {
            "text/plain": [
              "{'25.jpg': b'\\xff\\xd8\\xff\\xe0\\x00\\x10JFIF\\x00\\x01\\x01\\x01\\x00`\\x00`\\x00\\x00\\xff\\xe1\\x01\\x0cExif\\x00\\x00MM\\x00*\\x00\\x00\\x00\\x08\\x00\\x01\\x87i\\x00\\x04\\x00\\x00\\x00\\x01\\x00\\x00\\x00\\x16\\x00\\x01\\x92\\x86\\x00\\x07\\x00\\x00\\x00\\xe0\\x00\\x00\\x00$UNICODE\\x00\\x00I\\x00m\\x00a\\x00g\\x00e\\x00 \\x00l\\x00i\\x00c\\x00e\\x00n\\x00s\\x00e\\x00d\\x00 \\x00t\\x00o\\x00 \\x00Z\\x00a\\x00z\\x00z\\x00l\\x00e\\x00 \\x00I\\x00n\\x00c\\x00.\\x00 \\x00A\\x00l\\x00l\\x00 \\x00u\\x00n\\x00a\\x00u\\x00t\\x00h\\x00o\\x00r\\x00i\\x00z\\x00e\\x00d\\x00 \\x00u\\x00s\\x00e\\x00 \\x00i\\x00s\\x00 \\x00p\\x00r\\x00o\\x00h\\x00i\\x00b\\x00i\\x00t\\x00e\\x00d\\x00.\\x00 \\x005\\x00b\\x009\\x003\\x005\\x009\\x00b\\x00a\\x00-\\x00e\\x00d\\x006\\x00f\\x00-\\x004\\x00a\\x000\\x008\\x00-\\x009\\x008\\x003\\x00b\\x00-\\x003\\x009\\x007\\x00d\\x00d\\x001\\x006\\x009\\x003\\x00d\\x00b\\x003\\x00\\x00\\x00\\x00\\x00\\x00\\x00\\x00\\x00\\x00\\x00\\x00\\xff\\xdb\\x00C\\x00\\x04\\x03\\x03\\x04\\x03\\x03\\x04\\x04\\x03\\x04\\x05\\x04\\x04\\x05\\x06\\n\\x07\\x06\\x06\\x06\\x06\\r\\t\\n\\x08\\n\\x0f\\r\\x10\\x10\\x0f\\r\\x0f\\x0e\\x11\\x13\\x18\\x14\\x11\\x12\\x17\\x12\\x0e\\x0f\\x15\\x1c\\x15\\x17\\x19\\x19\\x1b\\x1b\\x1b\\x10\\x14\\x1d\\x1f\\x1d\\x1a\\x1f\\x18\\x1a\\x1b\\x1a\\xff\\xdb\\x00C\\x01\\x04\\x05\\x05\\x06\\x05\\x06\\x0c\\x07\\x07\\x0c\\x1a\\x11\\x0f\\x11\\x1a\\x1a\\x1a\\x1a\\x1a\\x1a\\x1a\\x1a\\x1a\\x1a\\x1a\\x1a\\x1a\\x1a\\x1a\\x1a\\x1a\\x1a\\x1a\\x1a\\x1a\\x1a\\x1a\\x1a\\x1a\\x1a\\x1a\\x1a\\x1a\\x1a\\x1a\\x1a\\x1a\\x1a\\x1a\\x1a\\x1a\\x1a\\x1a\\x1a\\x1a\\x1a\\x1a\\x1a\\x1a\\x1a\\x1a\\x1a\\x1a\\x1a\\xff\\xc0\\x00\\x11\\x08\\x013\\x013\\x03\\x01\\x11\\x00\\x02\\x11\\x01\\x03\\x11\\x01\\xff\\xc4\\x00\\x1d\\x00\\x01\\x00\\x01\\x05\\x01\\x01\\x01\\x00\\x00\\x00\\x00\\x00\\x00\\x00\\x00\\x00\\x00\\x08\\x01\\x02\\x03\\x04\\x07\\x06\\t\\x05\\xff\\xc4\\x00N\\x10\\x00\\x01\\x03\\x02\\x03\\x03\\x06\\x08\\x08\\t\\x0b\\x05\\x00\\x00\\x00\\x00\\x00\\x01\\x02\\x03\\x04\\x05\\x06\\x07\\x11\\x08\\x121\\x13!4Ar\\x91\\x18QSVaq\\x94\\xd1\\x14\\x17\"2R\\x81\\xa1\\xc1\\x15#Ub\\x92\\x93\\xb1\\xd3\\xe137Bes\\x82\\xa2\\xb2\\xb3\\xc2\\xd2\\x16$C\\xa3\\xf0\\xff\\xc4\\x00\\x1b\\x01\\x01\\x00\\x02\\x03\\x01\\x01\\x00\\x00\\x00\\x00\\x00\\x00\\x00\\x00\\x00\\x00\\x00\\x05\\x06\\x03\\x04\\x07\\x02\\x01\\xff\\xc4\\x009\\x11\\x01\\x00\\x01\\x03\\x02\\x01\\x07\\x0b\\x03\\x05\\x01\\x00\\x03\\x00\\x00\\x00\\x00\\x01\\x02\\x03\\x04\\x05\\x11!\\x06\\x12\\x151QRq\\x14\\x16\"2ASa\\x81\\x91\\xb1\\xd1\\x134\\xa1#3\\xc1\\xe1\\xf0$Bb\\xf1\\xff\\xda\\x00\\x0c\\x03\\x01\\x00\\x02\\x11\\x03\\x11\\x00?\\x00\\x9f\\xc0\\x00\\x00\\x00\\x00\\x00\\x00\\x00\\x00\\x00\\x00\\x00\\x00\\x00\\x00\\x00\\x00\\x00\\x00\\x00\\x00\\x00\\x00\\x00\\x00\\x00\\x00\\x00\\x00\\x00\\x00\\x00\\x00\\x00\\x00\\x00\\x00\\x00\\x00\\x057\\x90\\x06\\xf2\\x00\\xde@\\x1b\\xc8\\x03y\\x00o \\r\\xe4\\x01\\xbc\\x807\\x90\\x06\\xf2\\x00\\xde@\\x1b\\xc8\\x03y\\x00o \\r\\xe4\\x01\\xbc\\x807\\x90\\x06\\xf2\\x00\\xde@\\x1b\\xc8\\x03y\\x00o \\r\\xe4\\x01\\xbc\\x807\\x90\\x06\\xf2\\x01F\\xc8\\xd79Z\\x8b\\xf2\\x93\\x8a\\x01p\\x00\\x00\\x00\\x00\\x00\\x00\\x00\\x00\\x00Qx\\x01`\\x00\\x00\\x00\\x00\\x00\\x00\\x00\\x00\\x00\\x00\\x00\\x00\\x00\\x00\\x00\\x00\\x00\\x00\\x00\\x00\\x00\\x000C\\xd3&\\xec\\xa0\\x1b`\\x00\\x00\\x00\\x00\\x00\\x00\\x00\\x00\\x01E\\xe0\\x05\\x80\\x00\\x00\\x00\\x00\\x00\\x00\\x00\\x00\\x00\\x00\\x00\\x00\\x00\\x00\\x00\\x00\\x00\\x00\\x00\\x00\\x00\\x00\\xc1\\x0fL\\x9b\\xb2\\x80m\\x80\\x00\\x00\\x00\\x00\\x00\\x00\\x00\\x00\\x05\\x17\\x80\\x16\\x00\\x00\\x00\\x00\\x00\\x00\\x00\\x00\\x00\\x00\\x00\\x00\\x00\\x00\\x00\\x00\\x00\\x00\\x00\\x00\\x00\\x00\\x03\\x04=2n\\xca\\x01\\xb6\\x00\\x00\\x00\\x00\\x00\\x00\\x00\\x00\\x00\\x14^\\x00X\\x00\\x00\\x00\\x00\\x00\\x00\\x00\\x00\\x00\\x00\\x00\\x00\\x00\\x00\\x00\\x00\\x00\\x00\\x00\\x00\\x00\\x00\\x0c0\\xf4\\xc9{\\x08\\x06\\xd0\\x00\\x00\\x00\\x00\\x00\\x00\\x00\\x00\\x00Qx\\x01`\\x00\\x00\\x00\\x00\\x00\\x00\\x00\\x00\\x00\\x00\\x00\\x00\\x00\\x00\\x00\\x00\\x00\\x00\\x00\\x00\\x00\\x000\\xc3\\xd3%\\xec \\x1b@\\x00\\x00\\x00\\x00\\x00\\x00\\x00\\x00\\x01E\\xe0\\x05\\x80\\x00\\x00\\x00\\x00\\x00\\x00\\x00\\x00\\x00\\x00\\x00\\x00\\x00\\x00\\x00\\x00\\x00\\x00\\x00\\x00\\x00\\x00\\xc3\\x0fL\\x97\\xb0\\x80m\\x00\\x00\\x00\\x00\\x00\\x00\\x00\\x00\\x00\\x05\\x17\\x80\\x16\\x00\\x00\\x01WN x\\xbcM\\x9bX/\\x08\\xab\\xdb~\\xc4T4\\xf31\\x15V\\x16\\xca\\x8f\\x93\\x9b\\xabu\\xba\\xae\\xbe\\x83z\\xce\\x06VG\\xf6\\xe8\\x99j\\xdc\\xca\\xb3k\\xd6\\xa9\\xcd\\xae;_e\\xe5\\x1b\\x95)?\\n\\xdc=0\\xd2n\\xa7\\xf8\\xd5\\xa4\\xad\\x1c\\x9f\\xcd\\xab\\xafh\\xf9\\xfe\\x1aUj\\xb8\\xf1\\xd5\\xbc\\xbf\\'\\xc3K\\x06~C\\xbf~\\xae\\x1f\\xde\\x19\\xfc\\xdb\\xca\\xef\\xd3\\xfc\\xfe\\x18\\xfab\\xcfv\\x7f\\x8f\\xcb\\xf4\\xed\\xdbae\\xf5c\\x9a\\xda\\xb8\\xee\\xf6\\xfdx\\xbajTr\\'\\xe89\\xc6\\x1a\\xf9=\\x99OV\\xd3\\xf3\\xfc\\xbd\\xd3\\xabc\\xcf^\\xf0\\xe8\\x98g:0&-tl\\xb2\\xe2J\\x17\\xcf\\'\\xcd\\x86g\\xf22/\\xf7_\\xa2\\x91\\x97\\xb4\\xec\\xbc~5\\xd1?v\\xed\\xbc\\xbb\\x17}Z\\x9e\\xf1\\x15\\x155NtR9\\xb6\\x00\\x00\\x00\\rz\\xea\\xea{e\\x1dEe|\\xcc\\xa7\\xa5\\xa7\\x8d\\xd2M+\\xd7F\\xb1\\x88\\x9a\\xaa\\xaa\\xf8\\x91\\x0fT\\xd35\\xd5\\x14\\xd3\\x1b\\xcc\\xbeU1LL\\xcfS\\xc5\\xfcu\\xe5\\xe7\\x9e6\\x7fji\\xbf\\xd1\\xb9\\x9e\\xea~\\x8d_,\\xc7\\xef\\xc1\\xf1\\xd7\\x97\\x9ex\\xd9\\xfd\\xa9\\xa3\\xa3s=\\xd4\\xfd\\x0f,\\xc7\\xef\\xc1\\xf1\\xd7\\x97\\x9ex\\xd9\\xfd\\xa9\\xa3\\xa3s=\\xd4\\xfd\\x0f,\\xc7\\xef\\xc1\\xf1\\xd7\\x97\\x9ex\\xd9\\xfd\\xa9\\xa3\\xa3s=\\xd4\\xfd\\x0f,\\xc7\\xef\\xc1\\xf1\\xd7\\x97\\x9ex\\xd9\\xfd\\xa9\\xa3\\xa3s=\\xd4\\xfd\\x0f,\\xc7\\xef\\xc1\\xf1\\xd7\\x97\\x9ex\\xd9\\xfd\\xa9\\xa3\\xa3s=\\xd4\\xfd\\x0f,\\xc7\\xef\\xc1\\xf1\\xd7\\x97\\x9ex\\xd9\\xfd\\xa9\\xa3\\xa3s=\\xd4\\xfd\\x0f,\\xc7\\xef\\xc1\\xf1\\xd7\\x97\\x9ex\\xd9\\xfd\\xa9\\xa3\\xa3s=\\xd4\\xfd\\x0f,\\xc7\\xef\\xc1\\xf1\\xd7\\x97\\x9ex\\xd9\\xfd\\xa9\\xa3\\xa3s=\\xd4\\xfd\\x0f,\\xc7\\xef\\xc3\\xd6Yo\\x96\\xdcGn\\x8a\\xe3b\\xad\\x82\\xe1C*\\xaaG<\\x0fG1\\xda.\\x8b\\xa2\\xfa\\xd1M+\\x96\\xab\\xb3T\\xd1\\\\m-\\x8a+\\xa6\\xe4s\\xa9\\x9d\\xe1\\xfa\\x067\\xb6\\x18zd\\xbd\\x84\\x03h\\x00\\x00\\x00\\x00\\x00\\x00\\x00\\x00\\x00(\\xbc\\x00\\xb0\\x00\\x1eO0s\\x0e\\xcb\\x96\\xd6\\tn\\xd8\\x8a\\xa3q\\xa9\\xf2a\\x85\\xbc\\xf2L\\xfe\\xa6\\xb5?\\xfbCs\\x13\\x12\\xeee\\xc8\\xb7n?\\xd3^\\xfd\\xfa1\\xe8\\xe7V\\x83Y\\x97\\xb4\\x96.\\xc7\\xb2MMCT\\xfb\\r\\x99\\xca\\xa8\\x94\\xd4\\xafV\\xbd\\xed\\xfc\\xf7\\xa7:\\xfa\\x93D\\xf5\\x9d\\x07\\x0bF\\xc6\\xc5\\x88\\x9a\\xa3\\x9dWl\\xaa\\x99\\x1a\\x8d\\xeb\\xfc\"v\\x87\\x1bs\\x95\\xeeW9U\\xce^uU\\xe2\\xa4\\xefR1@\\x00\\x00\\x01\\xd4\\xb2\\xe7?\\xf1\\x96\\\\\\xc9\\x0c4\\xb5\\xef\\xbaZ\\x18\\xa8\\x8bAX\\xe5{\\x11\\xbe&9y\\xd9\\xf5sz\\x14\\x87\\xcc\\xd2q\\xb37\\x99\\x8d\\xaa\\xed\\x8f\\xfb\\x8aC\\x1f:\\xf6?\\x08\\x9d\\xe3\\xb2S\\x8f*\\xf3~\\xc1\\x9a\\xf6\\x9f\\x84\\xd9\\xa4Zk\\x84(\\x9f\\x0b\\xa0\\x95S\\x94\\x85|\\x7f\\x9c\\xd5\\xear}z/1\\xcf\\xf3\\xb4\\xfb\\xd8\\x15\\xf3k\\xe3\\x1e\\xc9Z\\xb1\\xb2\\xed\\xe5S\\xbd=}\\x8e\\x82F\\xb7\\x00\\x00x\\\\\\xe9\\xa8\\xf86Sc95D\\xd6\\xd3P\\xde\\x7f\\xceb\\xb7\\xef$4\\xd8\\xe7fZ\\x8f\\x8c53\\'lz\\xfc%\\xf3\\x0c\\xebJ \\x00\\x00\\x00\\x00\\x00\\x00\\x03\\xe8\\x96\\xcb_\\xcc\\xa5\\x87\\xfbJ\\x9f\\xf5\\x9es\\x1ds\\xf7\\xf5\\xfc\\xbe\\xcb\\xa6\\x9b\\xfbZ~\\x7fwd \\xd2L1t\\xc9{\\x08\\x06\\xd0\\x00\\x00\\x00\\x00\\x00\\x00\\x00\\x00\\x00Qx\\x01`\\x16K+!\\x89\\xf2J\\xe4dlj\\xb9\\xce^\\x08\\x89\\xd6}\\x88\\xdev\\x83\\xa9\\xf3S;s2\\xa731\\xb5eo*\\xe5\\xb5\\xd2\\xbd\\xd0\\xd0E\\xaf\\xc9H\\xd1~v\\x9e7q\\xee:\\xa6\\x99\\x85N\\x16<S\\xb7\\xa5=j>fL\\xe4\\xdd\\x99\\xf6GS\\x9b\\x92\\xad\\x10\\x0b\\xe2\\x86I\\xde\\x8c\\x827\\xc8\\xf5\\xe0\\xd6\\xb5U{\\x8f\\x931\\x1ce\\xf6#~\\xa7\\xe9\\xd6\\xe1{\\xe5\\xb6\\x04\\x9e\\xe1e\\xb8\\xd2@\\xbc$\\x9a\\x91\\xecoz\\xa6\\x86*o\\xda\\xaev\\xa6\\xa8\\x99\\xf1{\\x9bW)\\x8d\\xe6\\x99~I\\x99\\x8c\\x00\\x07\\xeea\\x1cYt\\xc1\\x18\\x82\\x8a\\xf7`\\xa8u=e+\\xd1\\xc9\\xa2\\xfc\\x97\\xb7\\xad\\x8eN\\xb6\\xaas*\\x1a\\xf9\\x18\\xf6\\xf2mM\\xbb\\x91\\xbcK-\\xab\\xb5Y\\xae+\\xa2x\\xc3\\xe9\\x96^cz\\x1c\\xc3\\xc2\\x16\\xdcAlTFUG\\xf8\\xd8\\xb5\\xd5a\\x959\\x9e\\xc5\\xf5/zh\\xbdg(\\xcb\\xc6\\xaf\\x12\\xfdV\\xaa\\xf6}\\x97\\xab\\x17\\xa9\\xbfn+\\xa7\\xda\\xf5\\x06\\xa38\\x07,\\xda:\\xa3\\xe0\\xd9/\\x8a\\x9d\\xcd\\xf2\\xe0\\x8d\\x9f\\xa5+\\x13\\xef&4x\\xdf>\\xdf\\xfd\\xecG\\xea\\x13\\xb6-o\\x9b\\x87RR@\\x00\\x00\\x00\\x00\\x00\\x00\\x1fD\\xb6Z\\xfee,?\\xdaT\\xff\\x00\\xac\\xf3\\x98\\xeb\\x9f\\xbf\\xaf\\xe5\\xf6]4\\xdf\\xda\\xd3\\xf3\\xfb\\xbb!\\x06\\x92a\\x8b\\xa6K\\xd8@6\\x80\\x00\\x00\\x00\\x00\\x00\\x00\\x00\\x00\\x02\\x8b\\xc0\\x0b\\x00\\xe5\\xdbDb\\'\\xe1\\xbc\\xa2\\xc4S\\xc0\\xf7G5L)H\\xc75tTY\\x17u~\\xc5R_H\\xb3\\xfa\\xd9\\xb4D\\xfb8\\xfd\\x1a\\x19\\xf7?O\\x1e\\xa9\\x8f\\x07\\xcd\\xa3\\xa9\\xa9\\x00\\x171\\x8e\\x91\\xedc\\x13W9Q\\x11=\"ga\\xf4s$2~\\xd3\\x978Z\\x82Yh\\xa2\\x93\\x10T\\xc2\\xd9j\\xea\\xa4b+\\xda\\xe7&\\xbb\\x8dU\\xf9\\xa8\\x9a\\xe9\\xccr\\xedOP\\xb9\\x99zc\\x7fF:\\xa1v\\xc3\\xc4\\xa3\\x1e\\xdcp\\xf4\\x9dY\\xecl\\xacs$j=\\x8eM\\x15\\xaeMQS\\xd4CD\\xed\\xd4\\x90B]\\xac\\xf2\\xa2\\xd9\\x84\\xeb-\\xf8\\x9f\\r\\xd2\\xc7CKq\\x95\\xd0U\\xd3\\xc4\\xdd\\xd8\\xdb6\\x9b\\xc8\\xf6\\xa2s&\\xa8\\x8b\\xaap\\xd5=*_\\xb4\\x1c\\xfb\\x97\\xe2\\xab7\\'y\\x8e\\xaf\\x05[T\\xc5\\xa6\\xd4\\xc5\\xca#m\\xd1\\x94\\xb6 \\x80\\x00K\\xad\\x8a1,\\x8a\\xecK\\x87%s\\x9d\\x12$u\\xd0\\xb7\\xa9\\xab\\xf3\\x1f\\xdf\\xf2;\\x8aW)l\\xc7\\xf4\\xefG\\x82\\xc7\\xa3\\xdc\\xf5\\xad\\xfc\\xd2\\xf0\\xa5,`\\x1cSj\\xea\\x85\\x87%\\xae\\xecO\\xfc\\xd54\\xac\\xff\\x00\\xdc\\xd7\\x7f\\xb4\\x9e\\xd0\\xa3|\\xfa~\\x11?d^\\xa7;b\\xd5\\xf2\\xfb\\xbez\\x1d1M\\x00\\x96\\x19?\\xb3\\x16\\x17\\xc7\\xd9{h\\xc47\\xaa\\xfb\\xac5\\x95\\xa9\"\\xb9\\x94\\xf2\\xb1\\x18\\x88\\xd9\\x1c\\xd4\\xd1\\x15\\x8a\\xbc\\x1b\\xe3)\\xba\\x86\\xb7\\x91\\x8b\\x93U\\xaa\"6\\x8e\\xdf\\x05\\x87\\x13M\\xb5~\\xcd7*\\x99\\xde^\\xe7\\xc0\\xc7\\x03\\xfeT\\xbe\\xfe\\xba/\\xdd\\x91\\xfeq\\xe5wi\\xfe\\x7f-\\xbe\\x88\\xb1\\xdb\\'\\x81\\x8e\\x07\\xfc\\xa9}\\xfdt_\\xbb\\x1eq\\xe5wi\\xfe\\x7f\\'DX\\xed\\x93\\xc0\\xc7\\x03\\xfeT\\xbe\\xfe\\xba/\\xdd\\x8f8\\xf2\\xbb\\xb4\\xff\\x00?\\x93\\xa2,v\\xcb\\xf31\\x16\\xc6\\xd8b\\x0b\\r\\xcak\\x05\\xca\\xee\\xfb\\xa4t\\xd2>\\x91\\x93K\\x1a\\xb1\\xd2\\xa3UZ\\xd7h\\xc4]\\x15SC-\\x9eQ_\\x9b\\x94\\xc5\\xcacm\\xf8\\xf5\\xfeX\\xeei6\\xa2\\x89\\x9afwB\\xb7\\xb1\\xd1\\xbd\\xcc\\x91\\xaa\\xd75U\\x15\\x17\\x8a)}\\x89\\xddW\\xeaZ\\x07\\xd1-\\x96\\xbf\\x99K\\x0f\\xf6\\x95?\\xeb<\\xe6:\\xe7\\xef\\xeb\\xf9}\\x97M7\\xf6\\xb4\\xfc\\xfe\\xee\\xc8A\\xa4\\x98b\\xe9\\x92\\xf6\\x10\\r\\xa0\\x00\\x00\\x00\\x00\\x00\\x00\\x00\\x00\\x00\\xa2\\xf0\\x02\\xc09\\x8ez\\xe5\\xcd\\xd740[lv\\x1a\\xbaJ9\\x96\\xa9\\x93=\\xd5J\\xe4b\\xb5\\xba\\xf3|\\x94U\\xd7]:\\x89m/2\\xde\\r\\xff\\x00\\xd5\\xb9\\x131\\xb7\\xb1\\xa3\\x9b\\x8fVM\\xaee3\\xb22O\\xb1\\x8e9\\x8e5t7K\\x0c\\xce\\xfa)<\\xa9\\xfbc-\\x91\\xca<I\\xeb\\xa6\\xaf\\xe3\\xf2\\x81\\x9d\"\\xff\\x00l\\x7f\\xdf\\'\\xe7?c\\xfc\\xc5j|\\x9f\\xc0\\xef\\xf4%j\\xfd\\xed2y\\xc3\\x85\\xf1\\xfa<\\xf4NG\\xc1\\xb1f\\xd9C0(/\\x96\\xba\\x8b\\x85\\r\\xbe\\xa2\\x8a:\\xb8\\x9fP\\x91\\xd77^M\\x1e\\x8a\\xeee\\xd3^mO75\\xec:\\xed\\xd5\\x14\\xcc\\xef\\xb4\\xed\\xc1\\xf6\\x8d/\"\\x9a\\xe2f#o\\x14\\xf2\\xe1\\xc0\\xe7kh\\x04]\\xdbK\\x10SC\\x86,V4{]WQX\\xb5*\\xde\\xb6\\xb1\\x8dT\\xd7\\xbd\\xc5\\xbb\\x93v\\xaa\\x9b\\xd5\\xdc\\xf6Dl\\x81\\xd6.D[\\xa6\\x8fn\\xe8V_\\x15p\\x00\\x12[b\\xd8\\xe4\\\\{|{WF6\\xd6\\xbb\\xde\\x9f\\xc67B\\xa9\\xcaI\\x8f\\'\\xa3\\xc7\\xfc\\'4\\x7f\\xee\\xd5\\xe0\\x9c\\x05\\x01j\\x00\\xe0\\x1b`\\xd5,9N\\xd8\\xb4\\xd7\\x97\\xb9@\\xdfV\\x88\\xe7}\\xc5\\x93\\x93\\xd4\\xef\\x9b\\xbfdJ\\x1fU\\x9d\\xb1\\xf6\\xf8\\xa0A\\xd1\\x95\\x10\\x0f\\xa4{8F\\xb1d\\xae\\x13G\"\\xb5]\\x04\\xae\\xe7\\xf4\\xcc\\xfd\\x0eY\\xacN\\xf9\\xf7?\\xefd.\\xfa|m\\x8bG\\xfd\\xedu2!\\xbe\\x00\\x00\\x07:\\xad\\xc8|\\xb9\\xb8VTU\\xd6aJ)j*$t\\xb2\\xbfzD\\xde{\\x97U]\\x11\\xde5$\\xe9\\xd53h\\xa6)\\x8b\\x93\\xb44\\xe7\\x0b\\x1e\\xa9\\x99\\x9a\\x18<\\x1e\\xf2\\xcf\\xcd\\x1a/\\xd3\\x93\\xfeG\\xae\\x96\\xce\\xf7\\x93\\xfc<\\xf9\\x0e7q\\xee0\\xee\\x1b\\xb5\\xe1;L6\\xac;F\\xca\\x0b|*\\xe5\\x8e\\x06*\\xaa5\\\\\\xaa\\xab\\xc5Ux\\xaa\\x9a\\x17\\xaf\\\\\\xbf\\\\\\xd7rw\\x99m[\\xb7M\\xaay\\xb4F\\xd0\\xfdC\\x0b#\\x0c]2^\\xc2\\x01\\xb4\\x00\\x00\\x00\\x00\\x00\\x00\\x00\\x00\\x00\\x14^\\x00X\\x00\\x00\\x00\\x00\\x00\\xf19\\x99\\x9a\\x16<\\xaf\\xb0\\xc9q\\xbeN\\xd5\\x9d\\xda\\xb6\\x9a\\x91\\xab\\xac\\x93\\xbf\\xa9\\x11<^5\\xe0\\x86\\xfe\\x16\\x15\\xdc\\xeb\\x9c\\xca#\\x87\\xb6{\\x1a\\xb9\\x194cQ\\xce\\xaa_9\\xf3\\x03\\x1e]3\\x1b\\x13\\xd5\\xdfo\\xb2k4\\xcb\\xbb\\x14M\\xf9\\xb0\\xc6\\x9f5\\x8d\\xf5}\\xab\\xaa\\x9d?\\x13\\x16\\xde\\x1d\\xa8\\xb5G\\xff\\x00\\xaa]\\xfb\\xf5d\\\\\\x9a\\xeaysq\\xae\\x00\\x02ols\\x82&\\xb3\\xe1K\\x96%\\xae\\x89c\\x92\\xef*GK\\xbc\\x9a/\"\\xcdu_R\\xbb_\\xd1(\\x1c\\xa2\\xc9\\x8b\\x97\\xa9\\xb3L\\xfa\\xbd~2\\xb5i6f\\x8bsr}\\xa90U\\x13\\x80\\x11\\xabm\\n\\xc5\\x8b\\x00\\xd9i\\xb7uI\\xeeh\\xba\\xf8\\xb7cw\\xbc\\xb5rr\\x9d\\xf2j\\x9e\\xc8A\\xea\\xf3\\xb5\\x9ac\\xe2\\x83\\xc7@U@&\\xce\\x1e\\xda\\'\\x08\\xe5\\xa6U\\xe1;s\\xa4u\\xda\\xf1\\x1d\\xae-\\xfaJM\\x17\\x93v\\x9a\\xe8\\xf7pj\\xf3\\xf0\\xe2Pn\\xe9\\x199\\xb9\\x97+\\xdbjw\\x9e2\\xb4\\xd1\\x9fg\\x1f\\x1e\\x8az\\xe7g-\\xc4\\x9ba\\xe3k\\xa3\\xdc\\xdb\\x055\\x05\\x8e\\x05\\xe0\\xa9\\x1f/\\'\\xe9;\\x9b\\xfc$\\xc5\\x9eOb\\xd1\\xfd\\xc9\\x9a\\xa7\\xe8\\xd0\\xb9\\xab_\\xab\\xd4\\x88\\x87<\\xad\\xcf|\\xc7\\xb8+\\x96\\xa3\\x17\\xdc\\x93^)\\x13\\xd2$\\xeeb!\\'N\\x97\\x85GU\\xb8iU\\x9d\\x93W]r\\xc5I\\x9d\\xf9\\x89B\\xe4u>0\\xbbs.\\xbaI?(\\x9d\\xce\\xd5\\x0f\\xb5i\\x98Uu\\xda\\x87\\xc8\\xcd\\xc9\\xa7\\xaa\\xb9{|=\\xb5\\xb6bY\\xdc\\xc4\\xbaTQ_!E\\xf9ISL\\xd6=S\\xd0\\xe8\\xf7~\\xd4R>\\xf6\\x81\\x85s\\xd5\\x89\\xa7\\xc2\\x7f-\\xabz\\xaeE\\x1e\\xb7\\x17}\\xcb\\xed\\xad0\\x9e)\\x9a\\x1a,O\\x1b\\xf0\\xcdt\\x9c\\xc9$\\xcfG\\xd39|\\\\\\xa76\\xef\\xf7\\x91\\x13\\xd2W2\\xf4\\x0c\\x8b\\x115Z\\xf4\\xe3\\xf9\\xfa&,j\\x96\\xae\\xf0\\xaf\\xd1\\x9f\\xe1 \"\\x969\\xe3l\\x90=\\xb2F\\xf4\\xd5\\xaej\\xea\\x8a\\x9e4R\\xb711;Jb\\'u\\xe7\\xc0\\x03\\x0c]2^\\xc2\\x01\\xb4\\x00\\x00\\x00\\x00\\x00\\x00\\x00\\x00\\x00\\x14^\\x00X\\x00\\x00\\x00\\x00q\\x8c\\xe4\\xda\\x16\\xc9\\x96PKAotw\\\\F\\xe6\\xaa2\\x95\\x8e\\xd5\\xb0\\xaf\\x8eEN\\x1e\\xae*N\\xe9\\xdaM\\xdc\\xd9\\x8a\\xaa\\xe1Go\\xe1\\x19\\x97\\x9fF4sc\\x8dH\\x1b\\x8bq\\x8d\\xeb\\x1c^f\\xbbbZ\\xd7\\xd6U\\xc8\\xab\\xa6\\xbc\\xcdb}\\x16\\xb7\\x82!\\xd1q\\xf1\\xedb\\xd1\\x14Z\\x8d\\xa1R\\xbbz\\xbb\\xd5s\\xab\\x9d\\xe5\\xf8F\\xc3\\x08\\x00\\x0e\\xad\\x92y/s\\xcdK\\xecn|o\\xa6\\xc3\\xf4\\xd2\"\\xd6U*s*}\\x06\\xf8\\xdc\\xbfa\\x0f\\xa9jT`\\xdb\\xed\\xaaz\\xa1!\\x87\\x87VM\\x7f\\xfdc\\xad\\xf4Z\\xd9m\\xa5\\xb3\\xdb\\xe9m\\xf6\\xd8[OIK\\x1bb\\x8a6\\xf0kQ4D9\\x85u\\xd5r\\xa9\\xaa\\xa9\\xdeet\\xa6\\x98\\xa2\"\\x98\\xea\\x86\\xd1\\xe1\\xe8\\x02+\\xed\\xb3Q\\xa6\\x1d\\xc2\\xf0}*\\xd9\\x1f\\xdc\\xcd>\\xf2\\xdf\\xc9\\xa8\\xfe\\xad\\xc9\\xf8 5\\x89\\xf4)\\x8f\\x8a\\x18\\x97\\xb5`\\x00\\x00\\x00\\x00\\x00\\x00\\xed\\x99\\x1f\\xb4\\x15\\xd7-k\\xe0\\xb6\\xde\\xa5\\x96\\xe3\\x85\\xa4v\\xec\\x909w\\x9fM\\xaf\\xf4\\xe3_G[x/\\xa1H\\rOI\\xb7\\x9bL\\xd7Dm_\\xdf\\xc5+\\x85\\x9f^<\\xc55q\\xa7\\xec\\xfa\\x03n\\xb8R\\xdd\\xa8)k\\xed\\xd32\\xa6\\x8e\\xaa&\\xcb\\x0c\\xac]Z\\xf695EE\\xf5)\\xcd\\xab\\xa2\\xabuM5F\\xd3\\x0b}5EQ\\x15GT\\xb6O/L1t\\xc9{\\x08\\x06\\xd0\\x00\\x00\\x00\\x00\\x00\\x00\\x00\\x00\\x00Qx\\x01`\\x00\\x00Y4\\xd1\\xd3\\xc4\\xf9g{c\\x89\\x88\\xaes\\x9c\\xba#Q:\\xd5O\\xb1\\x133\\xb4\\x13;q\\x94E\\xce\\xfd\\xa9\\xde\\x92\\xd4X2\\xcem\\x11\\xba\\xb2\\xa2\\xea\\x9e>\\xb6\\xc4\\x9f\\xee\\xee\\xf1\\x97M3C\\xe1\\x17rc\\xc2?*\\xe6n\\xa7\\xd7E\\x9f\\xaf\\xe1\\x12\\xa7\\xa8\\x96\\xaay\\'\\xaa\\x95\\xf3M#\\x95\\xcf\\x91\\xeeW9\\xca\\xbcUUx\\xa9t\\x88\\x8ach\\x85vffw\\x963\\xeb\\xe0\\x06Jzy\\xaa\\xa6d4\\xb1>i\\x9e\\xba5\\x8cj\\xb9\\xce_\\x12\"\\x1f&b\\x98\\xde_b&xBK\\xe5\\x0e\\xca\\x17+\\xf3\\xa1\\xbbf\\x1e\\xfd\\xaa\\xdb\\xcc\\xe8\\xe8S\\x9ay\\x93\\xf3\\xbe\\x82}\\xa5SP\\xd7\\xa8\\xb5\\xbd\\x18\\xfcg\\xb7\\xd9\\xfe\\xd3\\x98\\x9a]U\\xfaWxGbe\\xd9,v\\xec9l\\xa7\\xb6\\xd8\\xe8\\xe2\\xa1\\xa1\\xa7j68bn\\x88\\x89\\xf7\\xaf\\xa5y\\xd4\\xa2\\xdc\\xbb]\\xea\\xe6\\xba\\xe7y\\x95\\x9a\\x8a)\\xb7LSLm\\x0f\\xd01\\xbd\\x80\\x00\\xe2\\xdbA\\xe4\\xb5\\xc77-\\xf6\\xc5\\xb2\\\\\\xa9\\xe8\\xea\\xed\\xab\"\\xb6*\\x96\\xbbr]\\xed?\\xa6\\x9a\\xabU4\\xf1/\\x1e\\xa2{I\\xd4\\xa8\\xd3\\xea\\xab\\x9fN\\xf1=\\x88\\xbc\\xfc:\\xb2\\xa29\\xb3\\xb4\\xc2\\x18c\\x0c\\x96\\xc7\\x18\\x1d^\\xeb\\xed\\x82\\xa7\\xe0\\xcc\\xe7Z\\x9at\\xe5\\xa2\\xd3\\xc7\\xbc\\xddt\\xe1\\xd7\\xa2\\x97\\xac}K\\x13+\\xfbu\\xf1\\xec\\x9e\\x12\\xac\\xdd\\xc3\\xbfg\\xd6\\xa5\\xe0U4]\\x17\\x89$\\xd3d\\x82\\tjed4\\xf1\\xbeY^\\xba5\\x8cn\\xaa\\xe5\\xf1\"\\x1f&b\\x98\\xde_b&xC\\xa7\\xd8\\xf6t\\xcc\\x8cAL\\xda\\x8a<9,\\x11;Ej\\xd5J\\xc8\\x15Qz\\xd1\\x1c\\xa8\\xa4E\\xddc\\x06\\xd4\\xed5\\xfd8\\xb7\\xe8\\xd3\\xf2nF\\xf1K_\\x12\\xe4\\x06a\\xe1JGU\\xdd0\\xec\\xf2S5\\x15_%+\\xdbP\\x8dD\\xebTb\\xaa\\xa2zT\\xf5gV\\xc2\\xbfW6\\x9a\\xf8\\xfcx}\\xden`\\xe4Z\\x8d\\xea\\xa5\\xcd\\x154]\\x17\\x89,\\xd1\\x00\\x00\\x02c\\xecm\\x98SVR\\\\\\xb0]\\xc2]\\xff\\x00\\x825j\\xe87\\x97\\x9d#Wi#\\x13\\xd0\\x8er/\\xf7\\x94\\xa3\\xf2\\x8b\\x12)\\xaa\\x9c\\x8ac\\xaf\\x84\\xff\\x00\\x85\\x9bI\\xbf3\\x13f}\\x9ca+\\xcaj\\xc0\\xc3\\x17L\\x97\\xb0\\x80m\\x00\\x00\\x00\\x00\\x00\\x00\\x00\\x00\\x00\\x05\\x17\\x80\\x16\\x00\\x03\\x1c\\xf3\\xc7M\\x0c\\x93TH\\xd8\\xa2\\x8d\\xaa\\xe7\\xbd\\xcb\\xa25\\x13\\x8a\\xaa\\x9fb&gh&v\\xe3(1\\xb4&\\xd0\\xf5\\x18\\xce\\xaa\\xa7\\r\\xe0\\xfa\\x97\\xc1\\x87br\\xb2y\\xe3]\\x16\\xb1S\\xd3\\xf4?i\\xd0t\\x9d\"\\x9ch\\x8b\\xd7\\xa3\\xd2\\xfb\\x7f\\xb5O?>oL\\xdb\\xb7>\\x8f\\xdd\\x1d\\x0bB\\x14\\x02\\xe61\\xd29\\xad\\x8d\\xaa\\xe79tDD\\xd5UD\\xce\\xc7[\\xb7e\\x9e\\xccX\\xb3\\x1d$U\\xb7h\\xd7\\x0f\\xd9\\xdd\\xa2\\xa4\\xb5,\\xfcl\\x8d\\xfc\\xc8\\xf8\\xfdk\\xa2\\x15\\xfc\\xddo\\x1f\\x17\\xd1\\xa3\\xd2\\xab\\xe1\\xf9J\\xe3i\\xb7oq\\xab\\x84%\\xfe\\\\\\xe4\\x86\\x11\\xcbH\\x98\\xfb=\\x03j\\xae[\\xa8\\x8f\\xaf\\xa9D|\\xaa\\xbf\\x9b\\xd4\\xc4\\xf5w\\xa9I\\xcc\\xd4\\xf2sgj\\xe7h\\xec\\x8e\\xa5\\x93\\x1f\\x0e\\xce?\\xab\\x1c{]\\x1c\\x8bn\\x80\\x00\\x00\\x00\\x01Q\\x154T\\xd5\\x00\\xe7\\x18\\xd3\"p\\x1e:\\xdf\\x92\\xefb\\x82\\x9e\\xb5\\xda\\xff\\x00\\xdd\\xd1~\"]W\\xadU\\xbc\\xce^\\xd2))\\x8d\\xaae\\xe2\\xf0\\xa2\\xbd\\xe3\\xb2x\\xc3J\\xf6\\x15\\x8b\\xfe\\xb5<~\\r\\x0c\\xaf\\xc8\\x0c/\\x95\\xf55U\\x94-}\\xd2\\xe1+\\xd7\\x92\\xa9\\xabcU\\xf0\\xc7\\xd4\\xd6\\xf5\"\\xf8\\xdc\\x9ak\\xe82gj\\xd7\\xf3b)\\xab\\x84vG\\xb5\\xe3\\x1b\\x06\\xd64\\xcc\\xc7\\x19ub\\x1d \\x01\\n\\xf6\\xbd\\xcb\\n\\x0c?[o\\xc5\\xd6:vR\\xc7s\\x99\\xd0WG\\x1a#Z\\xb3\\xe8\\xaek\\xd1:\\x95\\xc8\\x8e\\xd7\\xd2\\x9a\\xf1U/\\x9c\\x9f\\xcd\\xae\\xed5X\\xaew\\xe6\\xf1\\x8f\\x05_U\\xc6\\xa6\\xdc\\xc5\\xdac\\xaf\\xad\\x17Kr\\x04\\x00\\x07N\\xd9\\xe6\\xf4\\xfb\\x16qaY\\x99\\xae\\xedER\\xd2=\\x13\\xad\\xb2\\xb5Y\\xfb\\\\\\x8b\\xf5\\x11:\\xbd\\xbf\\xd5\\xc1\\xb9\\x1d\\x91\\xbf\\xd3\\x8b\\x7f\\x02\\xbefM\\x13\\xf2}(9Z\\xee\\xc3\\x17L\\x97\\xb0\\x80m\\x00\\x00\\x00\\x00\\x00\\x00\\x00\\x00\\x00\\x05\\x17\\x80\\x16\\x00\\x02&mc\\x9c\\x92Q\\xb5p6\\x1d\\x9frI\\x1a\\x8e\\xbaL\\xc7s\\xa3W\\x84I\\xeb\\xe2\\xbe\\x8d<e\\xcbA\\xd3\\xa2\\xaf\\xfd7#\\xc3\\xf2\\xafj\\x99|\\xdf\\xe8\\xd1\\xf3C\\xc2\\xf0\\xad\\x00z\\xcc\\xbe\\xcb\\xab\\xe6e_\\x1bk\\xc3t\\xcb#\\x93GO3\\xb9\\xa3\\x85\\x9fI\\xcb\\xd5\\xf7\\x9aYy\\x96\\xb0\\xad\\xf3\\xeeO\\xfblX\\xc7\\xb9\\x91W6\\x88N\\x8c\\xac\\xd9\\xd7\\x0b\\xe5\\xcc\\x11T\\xd5@\\xcb\\xdd\\xf3DW\\xd5\\xd41\\x15\\xac_\\x14l^dOO\\x13\\x9fgj\\xf9\\x19\\x931\\x13\\xcd\\xa7\\xb2?\\xca\\xd9\\x8d\\x81k\\x1e7\\x9e2\\xecD\\x1aH\\x028\\xdcv\\xc7\\xc2\\x96\\xeb\\x85]\\x1c\\x96K\\xbc\\x8f\\xa6\\x99\\xf19\\xccH\\xb7\\\\\\xadr\\xa6\\xa9\\xf2\\xb8s\\x16\\x8a9;\\x91]1TU\\x1c|\\x7f\\x08Z\\xb5kT\\xcc\\xc76x5\\xbc4\\xf0\\x97\\xe4\\x1b\\xd7t_\\xf3=y\\xb7\\x93\\xdf\\x8f\\xe7\\xf0\\xf3\\xd3\\x16{\\xb2\\xf5\\xd9m\\xb4\\x9e\\x1f\\xcc\\xccQ\\x0e\\x1f\\xb4\\xda\\xaeT\\xb52\\xc4\\xf9RI\\xd1\\x9b\\x88\\x8dMW]\\x1c\\xaai\\xe6h\\xd7\\xb0\\xadM\\xda\\xea\\x89\\x86\\xce>\\xa1o&\\xe72\\x98\\x97i R`\\r@\\xa6\\xf2\\'\\x15@1\\xbe\\xaa\\x08\\x93Y&\\x8d\\x88\\x9fI\\xe8\\x87\\xa8\\xa6g\\xaa\\x1f7\\x88_\\x1c\\xac\\x99\\x88\\xf8^\\xd9\\x18\\xbc\\x1c\\xd5\\xd5\\x17\\xeb>LLp\\x97\\xdd\\xf7\\\\|\\x00#\\xa6\\xd9upE\\x96v\\xeaywVy\\xee\\xd1\\xacI\\xaf:n\\xc6\\xfdU;\\xf4\\xfa\\xcb?\\'i\\x99\\xcb\\xaac\\xaa#\\xf0\\x85\\xd5\\xe6\"\\xc4G\\xc5\\x05\\x0e\\x86\\xa9\\x80\\x00\\xf7\\x196\\xd5~k`\\xd4jj\\xbf\\x85\\xe9\\xff\\x00\\xce\\x84~\\xa3\\xfb;\\xbe\\x12\\xda\\xc4\\xfd\\xc5\\x1e0\\xfa|rU\\xf1\\x86.\\x99/a\\x00\\xda\\x00\\x00\\x00\\x00\\x00\\x00\\x00\\x00\\x00\\n/\\x00,\\x03\\xf0\\xb1\\x9e&\\xa7\\xc1\\xb8V\\xed}\\xae\\xe7\\x86\\x82\\x99\\xf3n\\xeb\\xa6\\xf2\\xa2s7\\xeb]\\x10\\xd8\\xc6\\xb3VE\\xeamS\\xed\\x96+\\xd7\"\\xd5\\xb9\\xae}\\x8f\\x96\\xd7\\xcb\\xcd^\"\\xbcW]nr,\\xb5\\x95\\xb3:i\\\\\\xab\\xaf:\\xae\\xbaz\\x93\\x82z\\x10\\xeb\\xd6\\xad\\xd3f\\x88\\xb7OT(5\\xd77*\\x9a\\xaa\\xeb\\x97\\xe7\\x99\\x1e\\x04\\xe3\\xce\\x04\\xc0\\xca\\x8c\\xf5\\xca\\xcc\\xb0\\xc2T\\xb6\\x9a&\\xdc\\x9dX\\xe6\\xa4\\x95\\xb5\\tE\\xcf4\\xbas\\xf3\\xeb\\xc18\\'\\xf1)\\x19\\xfa^\\xa1\\x9bznU\\xb6\\xde\\xce>\\xc5\\x97\\x177\\x13\\x1a\\xdcS\\x1b\\xef\\xed\\xe0\\xf7^\\x17\\xf9w\\xfdk\\xec\\x9f\\xc4\\x8f\\xf3\\x7f7\\xe1\\xf5mt\\xae7\\xc7\\xe8x_\\xe5\\xdf\\xf5\\xaf\\xb2\\x7f\\x11\\xe6\\xfeo\\xc3\\xeat\\xae7\\xc7\\xe8\\xa3\\xb6\\xbe\\xcb\\xc5j\\xe9\\xf8W\\xd9?\\x89\\xf7\\xcd\\xfc\\xdf\\x87\\xd4\\xe9\\\\o\\x8f\\xd1\\x03\\xab\\xa6J\\x9a\\xda\\x99\\x9b\\xae\\xec\\x92\\xb9\\xe9\\xaf\\x1d\\x15u:%1\\xcd\\xa6!R\\xaaw\\x99\\x96\\xb9\\xe9\\xe5\\xdfvA\\x8d\\xaf\\xcd\\x9d\\xe7\\';-\\xd3*}\\x89\\xf7\\x95\\xbeP\\xcf\\xfe?\\x9c&4\\x9f\\xdc|\\x93\\xe4\\xe7+sZ\\xe1\\x04\\x954\\x15P\\xd3\\xc8\\xb0\\xcd$Nk$o\\x16\\xb9S\\x99OTLEQ2\\xf3To\\x13\\x10\\xf9\\x99\\x7f\\xcc\\x0c}n\\xbc\\\\(.x\\xaa\\xf6\\xca\\xaaZ\\x89!\\x99\\xa9]#Q\\x1e\\xd7*/2*u\\xa1\\xd5\\xedba\\xd7E5Sn6\\x98\\xec\\x85\\x1a\\xe5\\xfc\\x8aj\\x9af\\xb9\\xe1\\xf1y\\xf9\\xb1\\x86\"\\xa9EJ\\x8b\\xf5\\xd6d^\\xa7\\xd6\\xc8\\xef\\xda\\xa6\\xccc\\xd9\\xa7\\xaa\\x88\\xfaC\\x0c\\xde\\xb9=uO\\xd5\\xf9rUTM\\xfc\\xac\\xd2\\xc9\\xdaz\\xa9\\x9a)\\x88\\xea\\x86=\\xe6R/g\\r\\xa0\\xa9p\\x14\\x0e\\xc3\\x18\\xc9\\xf26\\xc7$\\x8b%%SQ]\\xf0W\\xaf\\x16\\xb98\\xee*\\xf3\\xf3p]|z\\xa5cX\\xd2j\\xca\\x9f\\xd6\\xb3\\xeb{c\\xb7\\xfd\\xa6\\xf4\\xfc\\xf8\\xb1\\x1f\\xa7s\\xab\\xec\\x99\\xb6\\x8cWc\\xbf\\xd3\\xb6\\xa2\\xcbw\\xa1\\xaf\\x85\\xc9\\xaa:\\x1a\\x86\\xbf\\x9b\\xeaR\\x8br\\xc5\\xdbS\\xb5t\\xcc|\\x96j.\\xd1\\\\oL\\xee\\xfc\\xecM\\x98\\xf8W\\x08R\\xc9Q\\x7f\\xbeQR\\xa4h\\xba\\xb3\\x96G=W\\xc4\\x8dNuS-\\x9c<\\x8c\\x89\\xda\\xdd\\x13,w2-Z\\x8d\\xeb\\xa9\\x03\\xb3\\xf38\\xdd\\x9b\\x18\\x8a\\x15\\xb7\\xc7%=\\x8a\\xde\\x8em#$\\xe6t\\x8a\\xbcdruk\\xa72u\\'\\xac\\xe8\\x9aV\\x9d\\xe4\\x16\\xa7\\x9d\\xebO_\\xe1S\\xce\\xcb\\xf2\\xaa\\xf8uC\\x91\\x93H\\xd0\\x00\\x1d\\xd7d\\xec-%\\xfb5i\\xae.j\\xfc\\x16\\xcd\\x04\\x95/wV\\xfa\\xa6\\xe3\\x13\\xbd\\xda\\xfdEw^\\xbf\\x16\\xb0\\xe6\\x8fm\\\\\\x12\\xda]\\xae~DU\\xd8\\xfa\\x02su\\xc1\\x86.\\x99/a\\x00\\xda\\x00\\x00\\x00\\x00\\x00\\x00\\x00\\x00\\x00\\n/\\x00,\\x028\\xed\\x8f\\x88\\x1dm\\xcb\\xeb}\\xae\\'\":\\xe7\\\\\\xd4zk\\xa2\\xee1\\x15\\xdf\\xb7D\\xfa\\xcbG\\'ms\\xf2f\\xb9\\xff\\x00\\xe3\\x08]Z\\xe76\\xccS\\xdb(.t%L\\x00\\x00\\x00\\x00\\x00\\x00\\x01 \\xf6;n\\xb9\\xa7P\\xbe+l\\xbf\\xb5\\xa5k\\x94?\\xb3\\x8f\\x18L\\xe9?\\xdf\\x9f\\x04\\xf39\\xd2\\xda\\x01\\r\\xf6\\xb9\\xcaY\\xa9\\xee?\\xf5\\xe5\\x8e\\x9d\\xcf\\xa6\\xa8F\\xc7uk\\x13^M\\xe8\\x88\\xd6\\xca\\xbe\\x85DF\\xaf\\xa5\\x13\\xc6^4\\x0c\\xf8\\x9a|\\x96\\xb9\\xe3\\x1d_\\x85kU\\xc5\\x98\\x9f\\xd6\\xa6<QD\\xb9+\\xc0\\x00*\\x8eV\\xf0U@(\\xaa\\xaa\\xbc\\xfc\\xe0\\x00\\x00\\x035%$\\xf5\\xf51SQ\\xc4\\xf9\\xaa&r2615W*\\xf5!\\xe6\\xaa\\xa2\\x88\\x9a\\xaa\\x9e\\x0f\\xb1\\x13T\\xed\\x0f\\xa3Y\\x03\\x95\\xa9\\x968*8kZ\\x8bx\\xafT\\x9e\\xb5\\xdfEt\\xe6g\\xd4r\\xfdW;\\xcbo\\xefO\\xab\\x1c!u\\xc1\\xc6\\xf2k[O\\\\\\xf5\\xba\\xb1\\x0e\\x90a\\x8b\\xa6K\\xd8@6\\x80\\x00\\x00\\x00\\x00\\x00\\x00\\x00\\x00\\x02\\x8b\\xc0\\x0b\\x00\\x87\\x1bnU=n\\xb8B\\x97_\\xc5\\xb6\\x9e\\xa2M=*\\xe6\\'\\xdc^95O\\xa1v\\xaf\\x0f\\xf2\\xadk3\\xe9Q\\x1e(\\xa0\\\\\\x95\\xe0\\x00\\x00\\x00\\x00\\x00\\x00\\x04\\x93\\xd8\\xbe\\x06\\xc9\\x987\\x99\\x1d\\xf3\\xa2\\xb5\\xaa\\xb7\\xeb\\x91\\xa8UyG;cS\\x1f\\x1f\\xf0\\x9c\\xd2#\\xfa\\xd5x\\'\\x19\\xcf\\xd6\\xa0\\x0c5T\\xb0WSMKY\\x0b\\'\\xa7\\x99\\x8a\\xc9#{w\\x9a\\xf6\\xaah\\xa8\\xa9\\xd6\\x87\\xaaj\\x9af&\\'\\x8c>LD\\xc6\\xd2\\x85\\xf9\\xcd\\xb2\\xa5\\xc2\\xcf=U\\xeb-\\xe2}\\xc2\\xd8\\xe5Y\\x1fnNy\\xa0\\xf1\\xa3>\\x9b|I\\xc7\\xd7\\xc4\\xbdi\\xda\\xed\\x17\"-\\xe4\\xce\\xd3\\xdb\\xec\\x9f\\x1e\\xc5c3L\\xaa\\x99\\x9a\\xec\\xf1\\x8e\\xc4c\\x9e\\ti\\xa5|51>\\x19X\\xba9\\x8fj\\xb5\\xcd_\\x12\\xa2\\x96\\xd8\\x98\\xaa7\\x84\\x14\\xc4\\xc7\\tc>\\xbe\\x00\\x00\\x00\\x03\\xf5p\\xfe\\x1a\\xbbb\\xab\\x8cV\\xfc?C5}\\\\\\xaa\\x88\\xd6D\\xddt\\xf4\\xaa\\xf5!\\x86\\xf5\\xebv)\\x9a\\xeeN\\xd0\\xc9n\\xddwj\\xe6\\xd1\\x1b\\xcapdF\\xceT\\xb9\\x7f\\xb9|\\xc5-\\x8a\\xbb\\x109?\\x14\\xcf\\x9c\\xcad\\xf4x\\xdd\\xe9\\xea9\\xfe\\xa9\\xacU\\x97\\xfd;\\\\)\\xfb\\xadXZ|X\\xf4\\xeb\\xe3W\\xd9 J\\xda`\\x03\\x0c]2^\\xc2\\x01\\xb4\\x00\\x00\\x00\\x00\\x00\\x00\\x00\\x00\\x00\\x14^\\x00X\\x07\\x0c\\xcf\\xbc\\x88\\xb8f\\xfd\\xca\\xcdWn\\xbbS[R\\x82\\t\"{f\\x8d\\xce\\xde\\xder**i\\xea,:V\\xa9F\\x9fMT\\xd5N\\xfb\\xa2s\\xb0\\xaa\\xcb\\xaa\\x99\\x89\\xdbg \\xf0\\'\\xbfy\\xd1n\\xf6w\\x93~r\\xda\\xf7r\\x8e\\xe8z\\xfb\\xd0x\\x13\\xdf\\xbc\\xe8\\xb7{;\\xc7\\x9c\\xb6\\xbd\\xdc\\x9d\\x0f_z\\x0f\\x02{\\xf7\\x9d\\x16\\xefgx\\xf3\\x96\\xd7\\xbb\\x93\\xa1\\xeb\\xefA\\xe0O~\\xf3\\xa2\\xdd\\xec\\xef\\x1er\\xda\\xf7rt=}\\xe8<\\t\\xef\\xdet[\\xbd\\x9d\\xe3\\xce[^\\xeeN\\x87\\xaf\\xbd\\x07\\x81=\\xfb\\xce\\x8bw\\xb3\\xbcy\\xcbk\\xdd\\xc9\\xd0\\xf5\\xf7\\xa0\\xf0\\'\\xbfy\\xd1n\\xf6w\\x8f9m{\\xb9:\\x1e\\xbe\\xf4\\x1e\\x04\\xf7\\xef:-\\xde\\xce\\xf1\\xe7-\\xafw\\'C\\xd7\\xde\\x83\\xc0\\x9e\\xfd\\xe7E\\xbb\\xd9\\xde<\\xe5\\xb5\\xee\\xe4\\xe8z\\xfb\\xd0\\xea\\xd9\\x11\\xb3\\xfd\\xcb(\\xf1\\r\\xca\\xe5q\\xbb\\xd2\\xdcc\\xab\\xa3\\xf8:6\\x18\\xdc\\xd5j\\xef\\xb5\\xda\\xf3\\xfa\\x88mSV\\xa3P\\xb7M\\x14\\xd31\\xb4\\xee\\x90\\xc2\\xc1\\xab\\x16\\xb9\\xaag}\\xdd\\xf0\\xae%\\xc0\\x00\\x00\\xf1\\x18\\xd3(\\xb0v>G;\\x11\\xd9`\\x96\\xa5\\xc9\\xa7\\xc2bNN_\\xd2N?^\\xa4\\x866\\xa1\\x93\\x8b\\xfd\\xba\\xb8v{\\x1a\\xb7\\xb1l\\xdf\\xf5\\xe9p\\x9cI\\xb1U\\xbew\\xbaL)\\x89\\'\\xa3EUT\\x86\\xb6\\x14\\x95\\x13\\xd1\\xbc\\xdd\\x17\\xec,6yI\\\\p\\xbbF\\xfe\\x08\\x9b\\x9a=3\\xeaU\\xb7\\x8b\\xc0\\xd6\\xecm\\x8d\\xa9\\xdd\\xa5%\\xc2\\xd3X\\xdf\\x1bes?\\xcc\\x84\\x8d<\\xa2\\xc5\\x9e\\xbaf\\x1as\\xa4_\\x8e\\xa9\\x87\\xe77d\\\\\\xc4t\\x9b\\xae\\x86\\xde\\xd6\\xfd/\\x85\\xb7C/\\x9c\\x18_\\x1f\\xa3\\xc7Ed|\\x1f\\xb1n\\xd8\\xcb\\x18T\\xbd?\\x08]\\xadt,\\xeb]]\"\\xf7\"}\\xe6\\n\\xf9G\\x8d\\x1e\\xad3,\\xb4\\xe9\\x17\\xa7\\xaeb\\x1d+\\x0bli\\x87m\\xeed\\xb8\\xa2\\xedUv\\x91\\x17U\\x8a$Hc_\\xda\\xa4U\\xfeQ_\\xaf\\x85\\xaab?\\x96\\xf5\\xad\"\\xdd<k\\x9d\\xdd\\xef\\x0b\\xe0\\x9c?\\x83)~\\r\\x86\\xadt\\xd6\\xf6i\\xa2\\xacl\\xf9N\\xf5\\xbb\\x8a\\x95\\xdb\\xf97\\xb2g{\\x95n\\x96\\xb7f\\xdd\\x98\\xda\\x88\\xd9\\xfb\\xe6\\xb30\\x00\\x0c1t\\xc9{\\x08\\x06\\xd0\\x00\\x00\\x00\\x00\\x00\\x00\\x00\\x00\\x00Qx\\x01`\\x00\\x00\\x00\\x00\\x00\\x00\\x00\\x00\\x00\\x00\\x00\\x00\\x00\\x00\\x00\\x00\\x00\\x00\\x00\\x00\\x00\\x000\\xc3\\xd3%\\xec \\x1b@\\x00\\x00\\x00\\x00\\x00\\x00\\x00\\x00\\x01E\\xe0\\x05\\x80\\x00\\x00\\x00\\x00\\x00\\x00\\x00\\x00\\x00\\x00\\x00\\x00\\x00\\x00\\x00\\x00\\x00\\x00\\x00\\x00\\x00\\x00\\xc3\\x0fL\\x97\\xb0\\x80m\\x00\\x00\\x00\\x00\\x00\\x00\\x00\\x00\\x00\\x05\\x17\\x80\\x16\\x00\\x00\\x00\\x00\\x00\\x00\\x00\\x00\\x00\\x00\\x00\\x00\\x00\\x00\\x00\\x00\\x00\\x00\\x00\\x00\\x00\\x00\\x03\\x0c]2^\\xc2\\x01\\xb4\\x00\\x00\\x00\\x00\\x00\\x00\\x00\\x00\\x00\\x14^\\x00X\\x00\\x00\\x00\\x00\\x00\\x00\\x00\\x00\\x00\\x00\\x00\\x00\\x00\\x00\\x00\\x00\\x00\\x00\\x00\\x00\\x00\\x00\\x0c0\\xf4\\xc9{\\x08\\x06\\xd0\\x00\\x00\\x00\\x00\\x00\\x00\\x00\\x00\\x00Qx\\x01`\\x00\\x00\\x00\\x00\\x00\\x00\\x00\\x00\\x00\\x00\\x00\\x00\\x00\\x00\\x00\\x00\\x00\\x00\\x00\\x00\\x00\\x000\\xc3\\xd3%\\xec \\x1b@\\x00\\x00\\x00\\x00\\x00\\x00\\x00\\x00\\x01E\\xe0\\x05\\x80\\x00\\x00\\x00\\x00\\x00\\x00\\x00\\x00\\x00\\x00\\x00\\x00\\x00\\x00\\x00\\x00\\x00\\x00\\x00\\x00\\x00\\x00\\xc3\\x0fL\\x97\\xb0\\x80m\\x00\\x00\\x00\\x00\\x00\\x00\\x00\\x00\\x00\\x05\\x17\\x80\\x16\\x00\\x00\\x00\\x00\\x00\\x00\\x00\\x00\\x00\\x00\\x00\\x00\\x00\\x00\\x00\\x00\\x00\\x00\\x00\\x00\\x00\\x00\\x03\\x04=2n\\xca\\x01\\xb6\\x00\\x00\\x00\\x00\\x00\\x00\\x00\\x00\\x00\\x14^\\x00X\\x00\\x00\\x00\\x00\\x00\\x00\\x00\\x00\\x00\\x00\\x00\\x00\\x00\\x00\\x00\\x00\\x00\\x00\\x00\\x00\\x00\\x00\\x0c\\x10\\xf4\\xc9\\xbb(\\x06\\xd8\\x00\\x00\\x00\\x00\\x00\\x00\\x00\\x00\\x00Qx\\x01`\\x00\\x00\\x00\\x00\\x00\\x00\\x00\\x00\\x00\\x00\\x00\\x00\\x00\\x00\\x00\\x00\\x00\\x00\\x00\\x00\\x00\\x000C\\xd3&\\xec\\xa0\\x1b`\\x00\\x00\\x00\\x00\\x00\\x00\\x00\\x00\\x01E\\xe0\\x05\\x80\\x00\\x00\\x00\\x00\\x00\\x00\\x00\\x00\\x00\\x00\\x00\\x00\\x00\\x00\\x00\\x00\\x00\\x00\\x00\\x00\\x00\\x00\\xc1\\x0fL\\x9b\\xb2\\x80m\\x80\\x00\\x00\\x00\\x00\\x00\\x00\\x00\\x00\\x05\\x17\\x80\\x16\\x00\\x00\\x00\\x00\\x00\\x00\\x00\\x00\\x00\\x00\\x00\\x00\\x00\\x00\\x00\\x00\\x00\\x00\\x00\\x00\\x00\\x00\\x03\\x04=2n\\xca\\x01\\xb6\\x00\\x00\\x00\\x00\\x00\\x00\\x00\\x00\\x00\\x14^\\x00X\\x00\\x00\\x00\\x00\\x00\\x00\\x00\\x00\\x00\\x00\\x00\\x00\\x00\\x00\\x00\\x00\\x00\\x00\\x00\\x00\\x00\\x00\\x0c\\x10\\xf4\\xc9\\xbb(\\x06\\xd8\\x00\\x00\\x00\\x00\\x00\\x00\\x00\\x00\\x00Qx\\x01`\\x00\\x00\\x00\\x00\\x00\\x00\\x00\\x00\\x00\\x00\\x00\\x00\\x00\\x00\\x00\\x00\\x00\\x00\\x00\\x00\\x00\\x000C\\xd3&\\xec\\xa0\\x1b`\\x00\\x00\\x00\\x00\\x00\\x00\\x00\\x00\\x01E\\xe0\\x05\\x80\\x00\\x00\\x00\\x00\\x00\\x00\\x00\\x00\\x00\\x00\\x00\\x00\\x00\\x00\\x00\\x00\\x00\\x00\\x00\\x00\\x00\\x00\\xc1\\x0fL\\x9b\\xb2\\x80m\\x80\\x00\\x00\\x00\\x00\\x00\\x00\\x00\\x00\\x01y\\xd0\\r5\\x92\\xa1\\x17\\xf9\\x1d~\\xb4\\xf7\\x80\\xe5*<\\x82\\xf7\\xa7\\xbc\\x07)Q\\xe4\\x17\\xbd=\\xe09J\\x8f \\xbd\\xe9\\xef\\x01\\xcaTy\\x05\\xefOx\\x0eR\\x7f \\xbd\\xe9\\xef\\x01\\xcaTy\\x05\\xefOx\\x0eR\\xa3\\xc8/z{\\xc0r\\x95\\x1eA{\\xd3\\xde\\x03\\x94\\xa8\\xf2\\x0b\\xde\\x9e\\xf0\\x1c\\xa5G\\x90^\\xf4\\xf7\\x80\\xe5*<\\x82\\xf7\\xa7\\xbc\\x07)Q\\xe4\\x17\\xbd=\\xe09J\\x8f \\xbd\\xe9\\xef\\x01\\xcaTy\\x05\\xefOx\\x0eR\\xa3\\xc8/z{\\xc0r\\x95\\x1eA{\\xd3\\xde\\x03\\x94\\xa8\\xf2\\x0b\\xde\\x9e\\xf0\\x1c\\xa5G\\x90^\\xf4\\x01\\xca\\xd4y\\x0f\\xb5\\x00r\\x95\\x1eC\\xedOx\\x14\\xe5*|\\x87\\xda\\x9e\\xf0\\x1c\\xa5O\\x90\\xfbS\\xde\\x03\\x94\\xa9\\xf2\\x1fj{\\xc0r\\x95>C\\xedOx\\x0eR\\xa7\\xc8}\\xa9\\xef\\x02\\xfafI\\xcbI$\\xad\\xdc\\xdeDM\\x00\\xda\\x00\\x00\\x00\\x00\\x00\\x00\\x00\\x00\\x00\\x00\\x00\\x00\\x00\\x00\\x00\\x00\\x00\\x00\\x00\\x00\\x00\\x00\\x00\\x00\\x00\\x00\\x00\\x00\\x00\\x00\\x00\\x00\\x00\\x00\\x00\\x00\\x00\\x00\\x00\\x00\\x00\\x00\\x00\\x00\\x00\\x00\\x00\\x00\\x00\\x00\\x00\\x00\\x00\\x00\\x00\\x00\\x00\\x00\\x00\\x00\\x00\\x00\\x00\\x00\\x00\\x00\\x00\\x00\\x00\\x00\\x00\\x00\\x00\\x1f\\xff\\xd9'}"
            ]
          },
          "metadata": {
            "tags": []
          },
          "execution_count": 160
        }
      ]
    },
    {
      "cell_type": "code",
      "metadata": {
        "id": "NPH8FJ1dK3XO",
        "colab_type": "code",
        "colab": {
          "base_uri": "https://localhost:8080/",
          "height": 34
        },
        "outputId": "c1bebeaf-ba92-405c-894b-7709940d06b6"
      },
      "source": [
        "print(frame.shape)     \n"
      ],
      "execution_count": 181,
      "outputs": [
        {
          "output_type": "stream",
          "text": [
            "(1000, 1000)\n"
          ],
          "name": "stdout"
        }
      ]
    },
    {
      "cell_type": "code",
      "metadata": {
        "id": "byuH9eSXM1NE",
        "colab_type": "code",
        "colab": {}
      },
      "source": [
        "cv2.destroyAllWindows()"
      ],
      "execution_count": 0,
      "outputs": []
    },
    {
      "cell_type": "code",
      "metadata": {
        "id": "a7ek_YzqM3ka",
        "colab_type": "code",
        "colab": {}
      },
      "source": [
        "\n",
        "reimage=cv2.resize(frame ,(28,28),interpolation =cv2.INTER_AREA)\n"
      ],
      "execution_count": 0,
      "outputs": []
    },
    {
      "cell_type": "code",
      "metadata": {
        "id": "tvSt_8zpNKPJ",
        "colab_type": "code",
        "colab": {
          "base_uri": "https://localhost:8080/",
          "height": 1000
        },
        "outputId": "6b9e29af-2d40-4944-a3d3-79584ae4ff80"
      },
      "source": [
        "print(reimage)\n",
        "#reimage=reimage/255\n"
      ],
      "execution_count": 184,
      "outputs": [
        {
          "output_type": "stream",
          "text": [
            "[[255 255 255 255 255 255 255 255 255 255 255 255 255 255 255 255 255 255\n",
            "  255 255 255 255 255 255 255 255 255 255]\n",
            " [255 255 255 255 255 255 255 255 255 255 255 255 255 255 255 255 255 255\n",
            "  255 255 255 255 255 255 255 255 255 255]\n",
            " [255 255 255 255 255 255 255 255 255 255 255 255 255 255 255 255 255 255\n",
            "  255 255 255 255 255 255 255 255 255 255]\n",
            " [255 255 255 255 255 255 255 255 255 214 142  91  62  57  75 117 188 253\n",
            "  255 255 255 255 255 255 255 255 255 255]\n",
            " [255 255 255 255 255 255 255 255 255  71  34  36  41  47  53  57  62 114\n",
            "  242 255 255 255 255 255 255 255 255 255]\n",
            " [255 255 255 255 255 255 255 255 255  73  37  43  57  55  54  57  60  65\n",
            "  119 253 255 255 255 255 255 255 255 255]\n",
            " [255 255 255 255 255 255 255 255 255 127 176 235 253 249 199  91  59  64\n",
            "   70 190 255 255 255 255 255 255 255 255]\n",
            " [255 255 255 255 255 255 255 255 255 255 255 255 255 255 255 242  84  63\n",
            "   68 125 255 255 255 255 255 255 255 255]\n",
            " [255 255 255 255 255 255 255 255 255 255 255 255 255 255 255 255 175  61\n",
            "   68  91 255 255 255 255 255 255 255 255]\n",
            " [255 255 255 255 255 255 255 255 255 255 255 255 255 255 255 255 210  60\n",
            "   68  84 255 255 255 255 255 255 255 255]\n",
            " [255 255 255 255 255 255 255 255 255 255 255 255 255 255 255 255 177  63\n",
            "   70 101 255 255 255 255 255 255 255 255]\n",
            " [255 255 255 255 255 255 255 255 255 255 255 255 255 255 255 228  79  65\n",
            "   71 148 255 255 255 255 255 255 255 255]\n",
            " [255 255 255 255 255 255 255 255 255 255 255 255 249 217 154  70  62  66\n",
            "   78 229 255 255 255 255 255 255 255 255]\n",
            " [255 255 255 255 255 255 255 255 255 255 255 255 147  52  57  60  63  67\n",
            "  184 255 255 255 255 255 255 255 255 255]\n",
            " [255 255 255 255 255 255 255 255 255 255 255 255 141  52  57  62  65  71\n",
            "  205 255 255 255 255 255 255 255 255 255]\n",
            " [255 255 255 255 255 255 255 255 255 255 255 255 219 177 129  66  64  67\n",
            "   87 238 255 255 255 255 255 255 255 255]\n",
            " [255 255 255 255 255 255 255 255 255 255 255 255 255 255 255 219  75  66\n",
            "   71 154 255 255 255 255 255 255 255 255]\n",
            " [255 255 255 255 255 255 255 255 255 255 255 255 255 255 255 255 172  63\n",
            "   70  96 255 255 255 255 255 255 255 255]\n",
            " [255 255 255 255 255 255 255 255 255 255 255 255 255 255 255 255 219  58\n",
            "   68  77 249 255 255 255 255 255 255 255]\n",
            " [255 255 255 255 255 255 255 255 255 255 255 255 255 255 255 255 202  59\n",
            "   69  78 249 255 255 255 255 255 255 255]\n",
            " [255 255 255 255 255 255 255 255 251 255 255 255 255 255 255 255 124  63\n",
            "   69 109 255 255 255 255 255 255 255 255]\n",
            " [255 255 255 255 255 255 255 255  79 178 250 255 255 255 252 155  58  65\n",
            "   70 176 255 255 255 255 255 255 255 255]\n",
            " [255 255 255 255 255 255 255 255  59  30  55 115 144 134  78  56  62  66\n",
            "   97 248 255 255 255 255 255 255 255 255]\n",
            " [255 255 255 255 255 255 255 255  76  26  29  34  38  46  54  60  65  86\n",
            "  221 255 255 255 255 255 255 255 255 255]\n",
            " [255 255 255 255 255 255 255 255 139  38  29  33  37  46  55  70 142 237\n",
            "  255 255 255 255 255 255 255 255 255 255]\n",
            " [255 255 255 255 255 255 255 255 255 249 209 177 164 172 201 245 255 255\n",
            "  255 255 255 255 255 255 255 255 255 255]\n",
            " [255 255 255 255 255 255 255 255 255 255 255 255 255 255 255 255 255 255\n",
            "  255 255 255 255 255 255 255 255 255 255]\n",
            " [255 255 255 255 255 255 255 255 255 255 255 255 255 255 255 255 255 255\n",
            "  255 255 255 255 255 255 255 255 255 255]]\n"
          ],
          "name": "stdout"
        }
      ]
    },
    {
      "cell_type": "code",
      "metadata": {
        "id": "yFrcErIoUca5",
        "colab_type": "code",
        "colab": {
          "base_uri": "https://localhost:8080/",
          "height": 34
        },
        "outputId": "ec00afeb-0c2b-40d9-8816-a2e70fdff260"
      },
      "source": [
        "reimage.shape"
      ],
      "execution_count": 185,
      "outputs": [
        {
          "output_type": "execute_result",
          "data": {
            "text/plain": [
              "(28, 28)"
            ]
          },
          "metadata": {
            "tags": []
          },
          "execution_count": 185
        }
      ]
    },
    {
      "cell_type": "code",
      "metadata": {
        "id": "Z17qE-i6Ux6w",
        "colab_type": "code",
        "colab": {
          "base_uri": "https://localhost:8080/",
          "height": 286
        },
        "outputId": "8ab683e9-e8b9-42d5-fe35-b00b59526797"
      },
      "source": [
        "plt.imshow(frame)"
      ],
      "execution_count": 186,
      "outputs": [
        {
          "output_type": "execute_result",
          "data": {
            "text/plain": [
              "<matplotlib.image.AxesImage at 0x7f3ffbbda7b8>"
            ]
          },
          "metadata": {
            "tags": []
          },
          "execution_count": 186
        },
        {
          "output_type": "display_data",
          "data": {
            "image/png": "[encoded data removed]",
            "text/plain": [
              "<Figure size 432x288 with 1 Axes>"
            ]
          },
          "metadata": {
            "tags": []
          }
        }
      ]
    },
    {
      "cell_type": "code",
      "metadata": {
        "id": "JLFgapl0UzrS",
        "colab_type": "code",
        "colab": {
          "base_uri": "https://localhost:8080/",
          "height": 286
        },
        "outputId": "76b93b81-9d06-4213-c6c0-fce1ea990739"
      },
      "source": [
        "\n",
        "plt.imshow(reimage)"
      ],
      "execution_count": 187,
      "outputs": [
        {
          "output_type": "execute_result",
          "data": {
            "text/plain": [
              "<matplotlib.image.AxesImage at 0x7f3ffbbacbe0>"
            ]
          },
          "metadata": {
            "tags": []
          },
          "execution_count": 187
        },
        {
          "output_type": "display_data",
          "data": {
            "image/png": "[encoded data removed]",
            "text/plain": [
              "<Figure size 432x288 with 1 Axes>"
            ]
          },
          "metadata": {
            "tags": []
          }
        }
      ]
    },
    {
      "cell_type": "code",
      "metadata": {
        "id": "m72yrsU7YxQ5",
        "colab_type": "code",
        "colab": {
          "base_uri": "https://localhost:8080/",
          "height": 1000
        },
        "outputId": "7716fba3-67f6-42d4-f0cc-54b2f3932bd0"
      },
      "source": [
        "ret,f=cv2.threshold(reimage,127,255,cv2.THRESH_TOZERO_INV)\n",
        "plt.imshow(f)\n",
        "print(f/255)\n",
        "f=f/255"
      ],
      "execution_count": 188,
      "outputs": [
        {
          "output_type": "stream",
          "text": [
            "[[0.         0.         0.         0.         0.         0.\n",
            "  0.         0.         0.         0.         0.         0.\n",
            "  0.         0.         0.         0.         0.         0.\n",
            "  0.         0.         0.         0.         0.         0.\n",
            "  0.         0.         0.         0.        ]\n",
            " [0.         0.         0.         0.         0.         0.\n",
            "  0.         0.         0.         0.         0.         0.\n",
            "  0.         0.         0.         0.         0.         0.\n",
            "  0.         0.         0.         0.         0.         0.\n",
            "  0.         0.         0.         0.        ]\n",
            " [0.         0.         0.         0.         0.         0.\n",
            "  0.         0.         0.         0.         0.         0.\n",
            "  0.         0.         0.         0.         0.         0.\n",
            "  0.         0.         0.         0.         0.         0.\n",
            "  0.         0.         0.         0.        ]\n",
            " [0.         0.         0.         0.         0.         0.\n",
            "  0.         0.         0.         0.         0.         0.35686275\n",
            "  0.24313725 0.22352941 0.29411765 0.45882353 0.         0.\n",
            "  0.         0.         0.         0.         0.         0.\n",
            "  0.         0.         0.         0.        ]\n",
            " [0.         0.         0.         0.         0.         0.\n",
            "  0.         0.         0.         0.27843137 0.13333333 0.14117647\n",
            "  0.16078431 0.18431373 0.20784314 0.22352941 0.24313725 0.44705882\n",
            "  0.         0.         0.         0.         0.         0.\n",
            "  0.         0.         0.         0.        ]\n",
            " [0.         0.         0.         0.         0.         0.\n",
            "  0.         0.         0.         0.28627451 0.14509804 0.16862745\n",
            "  0.22352941 0.21568627 0.21176471 0.22352941 0.23529412 0.25490196\n",
            "  0.46666667 0.         0.         0.         0.         0.\n",
            "  0.         0.         0.         0.        ]\n",
            " [0.         0.         0.         0.         0.         0.\n",
            "  0.         0.         0.         0.49803922 0.         0.\n",
            "  0.         0.         0.         0.35686275 0.23137255 0.25098039\n",
            "  0.2745098  0.         0.         0.         0.         0.\n",
            "  0.         0.         0.         0.        ]\n",
            " [0.         0.         0.         0.         0.         0.\n",
            "  0.         0.         0.         0.         0.         0.\n",
            "  0.         0.         0.         0.         0.32941176 0.24705882\n",
            "  0.26666667 0.49019608 0.         0.         0.         0.\n",
            "  0.         0.         0.         0.        ]\n",
            " [0.         0.         0.         0.         0.         0.\n",
            "  0.         0.         0.         0.         0.         0.\n",
            "  0.         0.         0.         0.         0.         0.23921569\n",
            "  0.26666667 0.35686275 0.         0.         0.         0.\n",
            "  0.         0.         0.         0.        ]\n",
            " [0.         0.         0.         0.         0.         0.\n",
            "  0.         0.         0.         0.         0.         0.\n",
            "  0.         0.         0.         0.         0.         0.23529412\n",
            "  0.26666667 0.32941176 0.         0.         0.         0.\n",
            "  0.         0.         0.         0.        ]\n",
            " [0.         0.         0.         0.         0.         0.\n",
            "  0.         0.         0.         0.         0.         0.\n",
            "  0.         0.         0.         0.         0.         0.24705882\n",
            "  0.2745098  0.39607843 0.         0.         0.         0.\n",
            "  0.         0.         0.         0.        ]\n",
            " [0.         0.         0.         0.         0.         0.\n",
            "  0.         0.         0.         0.         0.         0.\n",
            "  0.         0.         0.         0.         0.30980392 0.25490196\n",
            "  0.27843137 0.         0.         0.         0.         0.\n",
            "  0.         0.         0.         0.        ]\n",
            " [0.         0.         0.         0.         0.         0.\n",
            "  0.         0.         0.         0.         0.         0.\n",
            "  0.         0.         0.         0.2745098  0.24313725 0.25882353\n",
            "  0.30588235 0.         0.         0.         0.         0.\n",
            "  0.         0.         0.         0.        ]\n",
            " [0.         0.         0.         0.         0.         0.\n",
            "  0.         0.         0.         0.         0.         0.\n",
            "  0.         0.20392157 0.22352941 0.23529412 0.24705882 0.2627451\n",
            "  0.         0.         0.         0.         0.         0.\n",
            "  0.         0.         0.         0.        ]\n",
            " [0.         0.         0.         0.         0.         0.\n",
            "  0.         0.         0.         0.         0.         0.\n",
            "  0.         0.20392157 0.22352941 0.24313725 0.25490196 0.27843137\n",
            "  0.         0.         0.         0.         0.         0.\n",
            "  0.         0.         0.         0.        ]\n",
            " [0.         0.         0.         0.         0.         0.\n",
            "  0.         0.         0.         0.         0.         0.\n",
            "  0.         0.         0.         0.25882353 0.25098039 0.2627451\n",
            "  0.34117647 0.         0.         0.         0.         0.\n",
            "  0.         0.         0.         0.        ]\n",
            " [0.         0.         0.         0.         0.         0.\n",
            "  0.         0.         0.         0.         0.         0.\n",
            "  0.         0.         0.         0.         0.29411765 0.25882353\n",
            "  0.27843137 0.         0.         0.         0.         0.\n",
            "  0.         0.         0.         0.        ]\n",
            " [0.         0.         0.         0.         0.         0.\n",
            "  0.         0.         0.         0.         0.         0.\n",
            "  0.         0.         0.         0.         0.         0.24705882\n",
            "  0.2745098  0.37647059 0.         0.         0.         0.\n",
            "  0.         0.         0.         0.        ]\n",
            " [0.         0.         0.         0.         0.         0.\n",
            "  0.         0.         0.         0.         0.         0.\n",
            "  0.         0.         0.         0.         0.         0.22745098\n",
            "  0.26666667 0.30196078 0.         0.         0.         0.\n",
            "  0.         0.         0.         0.        ]\n",
            " [0.         0.         0.         0.         0.         0.\n",
            "  0.         0.         0.         0.         0.         0.\n",
            "  0.         0.         0.         0.         0.         0.23137255\n",
            "  0.27058824 0.30588235 0.         0.         0.         0.\n",
            "  0.         0.         0.         0.        ]\n",
            " [0.         0.         0.         0.         0.         0.\n",
            "  0.         0.         0.         0.         0.         0.\n",
            "  0.         0.         0.         0.         0.48627451 0.24705882\n",
            "  0.27058824 0.42745098 0.         0.         0.         0.\n",
            "  0.         0.         0.         0.        ]\n",
            " [0.         0.         0.         0.         0.         0.\n",
            "  0.         0.         0.30980392 0.         0.         0.\n",
            "  0.         0.         0.         0.         0.22745098 0.25490196\n",
            "  0.2745098  0.         0.         0.         0.         0.\n",
            "  0.         0.         0.         0.        ]\n",
            " [0.         0.         0.         0.         0.         0.\n",
            "  0.         0.         0.23137255 0.11764706 0.21568627 0.45098039\n",
            "  0.         0.         0.30588235 0.21960784 0.24313725 0.25882353\n",
            "  0.38039216 0.         0.         0.         0.         0.\n",
            "  0.         0.         0.         0.        ]\n",
            " [0.         0.         0.         0.         0.         0.\n",
            "  0.         0.         0.29803922 0.10196078 0.11372549 0.13333333\n",
            "  0.14901961 0.18039216 0.21176471 0.23529412 0.25490196 0.3372549\n",
            "  0.         0.         0.         0.         0.         0.\n",
            "  0.         0.         0.         0.        ]\n",
            " [0.         0.         0.         0.         0.         0.\n",
            "  0.         0.         0.         0.14901961 0.11372549 0.12941176\n",
            "  0.14509804 0.18039216 0.21568627 0.2745098  0.         0.\n",
            "  0.         0.         0.         0.         0.         0.\n",
            "  0.         0.         0.         0.        ]\n",
            " [0.         0.         0.         0.         0.         0.\n",
            "  0.         0.         0.         0.         0.         0.\n",
            "  0.         0.         0.         0.         0.         0.\n",
            "  0.         0.         0.         0.         0.         0.\n",
            "  0.         0.         0.         0.        ]\n",
            " [0.         0.         0.         0.         0.         0.\n",
            "  0.         0.         0.         0.         0.         0.\n",
            "  0.         0.         0.         0.         0.         0.\n",
            "  0.         0.         0.         0.         0.         0.\n",
            "  0.         0.         0.         0.        ]\n",
            " [0.         0.         0.         0.         0.         0.\n",
            "  0.         0.         0.         0.         0.         0.\n",
            "  0.         0.         0.         0.         0.         0.\n",
            "  0.         0.         0.         0.         0.         0.\n",
            "  0.         0.         0.         0.        ]]\n"
          ],
          "name": "stdout"
        },
        {
          "output_type": "display_data",
          "data": {
            "image/png": "[encoded data removed]",
            "text/plain": [
              "<Figure size 432x288 with 1 Axes>"
            ]
          },
          "metadata": {
            "tags": []
          }
        }
      ]
    },
    {
      "cell_type": "code",
      "metadata": {
        "id": "nCVNd-A3NT9P",
        "colab_type": "code",
        "colab": {}
      },
      "source": [
        "a=np.array([0,1,0,0,0,0,0,0,0,0])\n"
      ],
      "execution_count": 0,
      "outputs": []
    },
    {
      "cell_type": "code",
      "metadata": {
        "id": "i2sznHeM2oYB",
        "colab_type": "code",
        "outputId": "b8206c5a-4bce-40ed-ecd9-d9dd652750da",
        "colab": {
          "base_uri": "https://localhost:8080/",
          "height": 1000
        }
      },
      "source": [
        "\n",
        "\n",
        "\n",
        "\n",
        "steps = 2000\n",
        "with tf.Session() as sess:\n",
        "  sess.run(init)\n",
        "  \n",
        "  for i in range(steps):\n",
        "    batch_x,batch_y=mnist.train.next_batch(50)\n",
        "    sess.run(train,feed_dict={x:batch_x,y_true:batch_y,hold_prob:0.5})\n",
        "    \n",
        "    if i%100==0:\n",
        "      print(\"on step{}:\".format(i))\n",
        "      print(\"accuracy:\")\n",
        "      \n",
        "      #matches=tf.equal(tf.argmax(y_pred,1),tf.argmax(y_true,1))\n",
        "      \n",
        "      #acc = tf.reduce_mean(tf.cast(matches,tf.float32))\n",
        "      \n",
        "      print(sess.run(y_pred,feed_dict={x:f.reshape(1,784),y_true:a.reshape(1,10),hold_prob:1.0}))\n",
        "      print('\\n')\n",
        "      "
      ],
      "execution_count": 190,
      "outputs": [
        {
          "output_type": "stream",
          "text": [
            "on step0:\n",
            "accuracy:\n",
            "[[  2.750034     3.4385037  -14.957839     1.0336332   -2.5952058\n",
            "   -0.6364917    3.6161869   -0.31542143  -0.29800272  -0.04138096]]\n",
            "\n",
            "\n",
            "on step100:\n",
            "accuracy:\n",
            "[[-1.2410607   0.6423417  -0.1673229   1.547751    0.60142606  0.15781587\n",
            "  -0.99327946 -0.30714288 -0.28908783 -0.74941117]]\n",
            "\n",
            "\n",
            "on step200:\n",
            "accuracy:\n",
            "[[-0.98127025  0.22212616  0.2954908   1.9209142  -0.46928722  0.43417513\n",
            "  -0.81819314 -0.47165394 -0.6305659  -0.73018134]]\n",
            "\n",
            "\n",
            "on step300:\n",
            "accuracy:\n",
            "[[-0.8466727   0.13401671  0.14695248  2.225039   -0.55586755  0.1328227\n",
            "  -1.3304377  -0.45941776 -0.11020415 -0.24528898]]\n",
            "\n",
            "\n",
            "on step400:\n",
            "accuracy:\n",
            "[[-1.1225855  -0.12523594  0.761097    3.374997   -1.1604581   0.065633\n",
            "  -1.4237916  -0.35893854 -0.30227512 -0.6709863 ]]\n",
            "\n",
            "\n",
            "on step500:\n",
            "accuracy:\n",
            "[[-1.4718745  -0.79486334  0.9410502   2.1286104  -0.6976845   0.3915451\n",
            "  -1.1040787  -0.92446136  0.31737173 -0.46654826]]\n",
            "\n",
            "\n",
            "on step600:\n",
            "accuracy:\n",
            "[[-1.3710574  -0.21439359  0.8265944   2.1254032  -0.40736496  0.4728772\n",
            "  -1.2972695  -0.4464175  -0.2984459  -0.5280291 ]]\n",
            "\n",
            "\n",
            "on step700:\n",
            "accuracy:\n",
            "[[-1.1005378  -1.000537    1.2715902   3.1849248  -1.3102343  -0.3780033\n",
            "  -1.4190304  -0.6564578   0.504017   -0.12013079]]\n",
            "\n",
            "\n",
            "on step800:\n",
            "accuracy:\n",
            "[[-1.3976067  -0.10955747  1.6530728   2.6526015  -0.75363934 -0.25110996\n",
            "  -1.8115548   0.10205752  0.09810416 -0.857571  ]]\n",
            "\n",
            "\n",
            "on step900:\n",
            "accuracy:\n",
            "[[-1.056723   -1.2818928   1.3162743   4.0680118  -1.7501782   0.00625289\n",
            "  -2.170555   -0.70937145  0.45969108 -0.15638867]]\n",
            "\n",
            "\n",
            "on step1000:\n",
            "accuracy:\n",
            "[[-0.8571884   0.14280021  0.32748747  1.9652531  -0.8788469  -0.14595985\n",
            "  -1.8493694  -0.20722514 -0.15207043 -0.39005652]]\n",
            "\n",
            "\n",
            "on step1100:\n",
            "accuracy:\n",
            "[[-1.517386   -0.49923617  1.0699743   3.6836104  -1.7059659   0.01190256\n",
            "  -1.9933138  -0.57480603  0.407962   -0.5861011 ]]\n",
            "\n",
            "\n",
            "on step1200:\n",
            "accuracy:\n",
            "[[-1.5638814  -0.42175326  1.5751408   3.7494457  -1.7553573  -0.59989834\n",
            "  -2.2171226  -0.11557766  0.5908064  -0.5365437 ]]\n",
            "\n",
            "\n",
            "on step1300:\n",
            "accuracy:\n",
            "[[-1.166514   -0.03131971  1.4473944   3.308555   -1.4634513  -0.8989525\n",
            "  -2.8461492  -0.11350735  0.54611695 -0.6699747 ]]\n",
            "\n",
            "\n",
            "on step1400:\n",
            "accuracy:\n",
            "[[-0.9520125   0.19475606  0.408368    2.2348661  -0.81306356 -0.02703346\n",
            "  -1.5019745  -0.02526078 -0.02091935 -0.7539551 ]]\n",
            "\n",
            "\n",
            "on step1500:\n",
            "accuracy:\n",
            "[[-0.9156999  -0.599155    1.0995442   3.2388685  -1.4299899  -0.48808\n",
            "  -1.9547503  -0.76105815  0.8923642  -0.5572895 ]]\n",
            "\n",
            "\n",
            "on step1600:\n",
            "accuracy:\n",
            "[[-1.0078189  -0.84695435  1.0526086   2.649828   -2.0895503  -0.01828281\n",
            "  -1.5702323   0.12765577  0.1614654  -0.17016208]]\n",
            "\n",
            "\n",
            "on step1700:\n",
            "accuracy:\n",
            "[[-1.2802347   0.5406072   0.9375626   2.680266   -1.034807   -0.22180888\n",
            "  -2.1365752  -0.01469439 -0.08350212 -0.29356444]]\n",
            "\n",
            "\n",
            "on step1800:\n",
            "accuracy:\n",
            "[[-1.8162671   0.05950353  0.9797669   3.3479314  -1.4170779   0.17928201\n",
            "  -1.9175817  -0.14251944  0.10350333 -0.20538658]]\n",
            "\n",
            "\n",
            "on step1900:\n",
            "accuracy:\n",
            "[[-1.7227185  -0.26791167  0.67420214  3.463105   -1.5328252  -0.54598457\n",
            "  -1.9544247  -0.8818827   1.5605147   0.14194709]]\n",
            "\n",
            "\n"
          ],
          "name": "stdout"
        }
      ]
    },
    {
      "cell_type": "code",
      "metadata": {
        "id": "5WDIi_Y64TXB",
        "colab_type": "code",
        "colab": {}
      },
      "source": [
        ""
      ],
      "execution_count": 0,
      "outputs": []
    },
    {
      "cell_type": "code",
      "metadata": {
        "id": "Ka8O-r7LN_BX",
        "colab_type": "code",
        "colab": {}
      },
      "source": [
        ""
      ],
      "execution_count": 0,
      "outputs": []
    }
  ]
}